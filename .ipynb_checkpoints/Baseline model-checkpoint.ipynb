{
 "cells": [
  {
   "cell_type": "code",
   "execution_count": 1,
   "metadata": {
    "pycharm": {
     "is_executing": false
    }
   },
   "outputs": [],
   "source": [
    "# preprocess Links"
   ]
  },
  {
   "cell_type": "code",
   "execution_count": 36,
   "metadata": {
    "pycharm": {
     "is_executing": false
    }
   },
   "outputs": [],
   "source": [
    "import spacy\n",
    "\n",
    "nlp = spacy.load('en_core_web_sm')"
   ]
  },
  {
   "cell_type": "code",
   "execution_count": 37,
   "metadata": {
    "pycharm": {
     "is_executing": false
    }
   },
   "outputs": [],
   "source": [
    "import requests\n",
    "from bs4 import BeautifulSoup\n",
    "import time\n",
    "\n",
    "def get_clean_data(url):\n",
    "    try :\n",
    "        content = requests.get(url)\n",
    "        content = content.text\n",
    "        \n",
    "    except(ConnectionError, Exception):\n",
    "        content = ''\n",
    "        \n",
    "    bs = BeautifulSoup(content,'html.parser')\n",
    "    texts = bs.findAll(['title','p','strong','li',re.compile('^h[1-6]$')])\n",
    "    return texts\n"
   ]
  },
  {
   "cell_type": "code",
   "execution_count": 38,
   "metadata": {
    "pycharm": {
     "is_executing": false
    }
   },
   "outputs": [],
   "source": [
    "import re\n",
    "def remove_tags(content):\n",
    "    cleanr = re.compile('<.*?>')\n",
    "    cleantext = re.sub(cleanr, '', content)\n",
    "    \n",
    "    return cleantext"
   ]
  },
  {
   "cell_type": "code",
   "execution_count": 39,
   "metadata": {
    "pycharm": {
     "is_executing": false
    }
   },
   "outputs": [],
   "source": [
    "def remove_punctuation(content):\n",
    "    content = re.sub(\"_\", \"\", content)\n",
    "    content = re.sub(\"[^\\w\\s]\", \"\", content)\n",
    "    content = re.sub(' +', ' ', content)\n",
    "    content = re.sub(\"\\n\", \"\", content)\n",
    "    return content"
   ]
  },
  {
   "cell_type": "code",
   "execution_count": 40,
   "metadata": {
    "pycharm": {
     "is_executing": false
    }
   },
   "outputs": [],
   "source": [
    "def convert_to_vector(content,vocabulary):\n",
    "    vector_dict = dict.fromkeys(vocabulary,0)\n",
    "    doc = nlp(content)\n",
    "\n",
    "    for token in doc:\n",
    "        if token.text.lower() in vector_dict:\n",
    "            vector_dict[token.text.lower()] += 1\n",
    "    \n",
    "    return vector_dict.values()"
   ]
  },
  {
   "cell_type": "code",
   "execution_count": 41,
   "metadata": {
    "pycharm": {
     "is_executing": false
    }
   },
   "outputs": [],
   "source": [
    "def create_vocabulary(list_of_queries):\n",
    "    vocabulary = set()\n",
    "    for query in list_of_queries:\n",
    "        words = query.lower().split()\n",
    "        vocabulary.update(words)\n",
    "    \n",
    "    return vocabulary   "
   ]
  },
  {
   "cell_type": "code",
   "execution_count": 42,
   "metadata": {
    "pycharm": {
     "is_executing": false,
     "name": "#%%\n"
    }
   },
   "outputs": [],
   "source": [
    "import pandas as pd"
   ]
  },
  {
   "cell_type": "code",
   "execution_count": 43,
   "metadata": {
    "pycharm": {
     "is_executing": false,
     "name": "#%%\n"
    }
   },
   "outputs": [],
   "source": [
    "dataset = pd.read_csv('Queries.csv', skipinitialspace = True, quotechar = '\"')"
   ]
  },
  {
   "cell_type": "code",
   "execution_count": 44,
   "metadata": {
    "pycharm": {
     "is_executing": false,
     "name": "#%%\n"
    }
   },
   "outputs": [],
   "source": [
    "vocab = create_vocabulary(list(set(dataset['Query'])))"
   ]
  },
  {
   "cell_type": "code",
   "execution_count": 45,
   "metadata": {},
   "outputs": [],
   "source": [
    "from multiprocessing import  Pool\n",
    "import numpy as np\n",
    "def parallelize_dataframe(df, func, n_cores=4):\n",
    "    df_split = np.array_split(df, n_cores)\n",
    "    pool = Pool(n_cores)\n",
    "    df = pd.concat(pool.map(func, df_split))\n",
    "    pool.close()\n",
    "    pool.join()\n",
    "    return df"
   ]
  },
  {
   "cell_type": "code",
   "execution_count": 46,
   "metadata": {},
   "outputs": [],
   "source": [
    "def clean_url(df):\n",
    "    df['text'] = df['URL'].apply(lambda x : remove_punctuation(remove_tags(str(get_clean_data(x)))).lower())\n",
    "    return df"
   ]
  },
  {
   "cell_type": "code",
   "execution_count": 48,
   "metadata": {},
   "outputs": [],
   "source": [
    "dataset_with_text = parallelize_dataframe(dataset,clean_url)"
   ]
  },
  {
   "cell_type": "code",
   "execution_count": 49,
   "metadata": {
    "pycharm": {
     "is_executing": false,
     "name": "#%%\n"
    }
   },
   "outputs": [],
   "source": [
    "def bag_of_word_df(dataset, vocab):\n",
    "    dataset = pd.concat([dataset,pd.DataFrame(columns=list(vocab))], sort=False)\n",
    "    for feature in vocab:\n",
    "        dataset[feature] = dataset['text'].apply(lambda x: x.count(' ' + feature + ' '))\n",
    "    return dataset"
   ]
  },
  {
   "cell_type": "code",
   "execution_count": 50,
   "metadata": {
    "pycharm": {
     "is_executing": false,
     "name": "#%%\n"
    }
   },
   "outputs": [],
   "source": [
    "vector_df = bag_of_word_df(dataset_with_text, vocab)"
   ]
  },
  {
   "cell_type": "code",
   "execution_count": 93,
   "metadata": {},
   "outputs": [],
   "source": [
    "queries = set(vector_df.Query)"
   ]
  },
  {
   "cell_type": "markdown",
   "metadata": {},
   "source": [
    "# Query Likelihood Evaluation Baseline"
   ]
  },
  {
   "cell_type": "code",
   "execution_count": 94,
   "metadata": {},
   "outputs": [
    {
     "data": {
      "text/plain": [
       "{\"AJ Green's Health\",\n",
       " 'Abraham Lincoln Gettysburg',\n",
       " 'Battles fought by Guru Gobind Singh',\n",
       " 'Bill Simmons Roger Goodell',\n",
       " 'Celtics 11/20/2019',\n",
       " 'Elon musk interview',\n",
       " 'Elon musk news',\n",
       " 'Elon musk speech',\n",
       " 'Facts about Sushruta',\n",
       " \"Gandhi's views on truth\",\n",
       " 'Gladiator Russell Crowe Quotes',\n",
       " 'JFK space race',\n",
       " \"Jack Ma's\\xa0 and Elon Musk's views on AI\",\n",
       " 'Jeff Bezos portrayed by top business magazines like Forbes',\n",
       " 'Kim Jong-un relationship with China',\n",
       " 'Leonardo da Vinci Quotes',\n",
       " 'Mohammad Ali',\n",
       " 'Mohammad Ali Sting like a bee',\n",
       " \"Narendra Modi's view on Indian Economy\",\n",
       " 'President Obama Inauguration',\n",
       " \"Sundar pichai's views on H-1B visa policy by the Trump Government\",\n",
       " 'Warren Buffet views and media interactions in regard to start-ups',\n",
       " 'World Media views on Imran Khan',\n",
       " 'elon musk interview with nyt',\n",
       " 'elon musk latest',\n",
       " 'elon musk on clean energy',\n",
       " 'elon musk on self driving cars',\n",
       " 'elon musk twitter',\n",
       " 'quotes and opinions of elon musk, as attributed to them in news articles, social media, books, etc.',\n",
       " 'quotes by Elon Musk'}"
      ]
     },
     "execution_count": 94,
     "metadata": {},
     "output_type": "execute_result"
    }
   ],
   "source": [
    "queries"
   ]
  },
  {
   "cell_type": "code",
   "execution_count": 51,
   "metadata": {
    "pycharm": {
     "is_executing": false,
     "name": "#%%\n"
    }
   },
   "outputs": [],
   "source": [
    "import numpy as np\n",
    "def get_likelihood_score(row, D):\n",
    "    tot = 0\n",
    "    for term in row['Query'].lower().split():\n",
    "        tot += np.log((row[term] + 1) /(D+ len(row.keys())-1))\n",
    "    return tot"
   ]
  },
  {
   "cell_type": "code",
   "execution_count": 52,
   "metadata": {
    "pycharm": {
     "is_executing": false,
     "name": "#%%\n"
    }
   },
   "outputs": [],
   "source": [
    "vector_df['score'] = [get_likelihood_score(row,len(vector_df)) for ind, row in vector_df.iterrows()]"
   ]
  },
  {
   "cell_type": "code",
   "execution_count": null,
   "metadata": {
    "pycharm": {
     "is_executing": false,
     "name": "#%%\n"
    }
   },
   "outputs": [],
   "source": [
    "\"\"\"\n",
    "Note: This code is not necissary \n",
    "\"\"\"\n",
    "# def score_fix(row):\n",
    "#     score = row['score']\n",
    "#     if vocab_df['score'].quantile(.2) > score:\n",
    "#         return 0\n",
    "#     elif vocab_df['score'].quantile(.4) > score:\n",
    "#         return 1\n",
    "#     elif vocab_df['score'].quantile(.6) > score:\n",
    "#         return 2\n",
    "#     elif vocab_df['score'].quantile(.8) > score:\n",
    "#         return 3\n",
    "#     else:\n",
    "#         return 4\n",
    "#\n",
    "# vocab_df[\"fitted_score\"]=vocab_df.apply(score_fix, axis=1)"
   ]
  },
  {
   "cell_type": "code",
   "execution_count": 92,
   "metadata": {},
   "outputs": [
    {
     "data": {
      "text/html": [
       "<div>\n",
       "<style scoped>\n",
       "    .dataframe tbody tr th:only-of-type {\n",
       "        vertical-align: middle;\n",
       "    }\n",
       "\n",
       "    .dataframe tbody tr th {\n",
       "        vertical-align: top;\n",
       "    }\n",
       "\n",
       "    .dataframe thead th {\n",
       "        text-align: right;\n",
       "    }\n",
       "</style>\n",
       "<table border=\"1\" class=\"dataframe\">\n",
       "  <thead>\n",
       "    <tr style=\"text-align: right;\">\n",
       "      <th></th>\n",
       "      <th>Query</th>\n",
       "      <th>URL</th>\n",
       "      <th>score</th>\n",
       "      <th>Ranking</th>\n",
       "      <th>Place</th>\n",
       "    </tr>\n",
       "  </thead>\n",
       "  <tbody>\n",
       "    <tr>\n",
       "      <th>0</th>\n",
       "      <td>Abraham Lincoln Gettysburg</td>\n",
       "      <td>http://www.abrahamlincolnonline.org/lincoln/sp...</td>\n",
       "      <td>-4.462883</td>\n",
       "      <td>1.0</td>\n",
       "      <td>0</td>\n",
       "    </tr>\n",
       "    <tr>\n",
       "      <th>12</th>\n",
       "      <td>Abraham Lincoln Gettysburg</td>\n",
       "      <td>https://quod.lib.umich.edu/j/jala/2629860.0016...</td>\n",
       "      <td>-8.004438</td>\n",
       "      <td>0.0</td>\n",
       "      <td>1</td>\n",
       "    </tr>\n",
       "    <tr>\n",
       "      <th>8</th>\n",
       "      <td>Abraham Lincoln Gettysburg</td>\n",
       "      <td>https://www.nationalaffairs.com/publications/d...</td>\n",
       "      <td>-10.390536</td>\n",
       "      <td>4.0</td>\n",
       "      <td>2</td>\n",
       "    </tr>\n",
       "    <tr>\n",
       "      <th>11</th>\n",
       "      <td>Abraham Lincoln Gettysburg</td>\n",
       "      <td>https://www.theatlantic.com/magazine/archive/2...</td>\n",
       "      <td>-11.171876</td>\n",
       "      <td>4.0</td>\n",
       "      <td>3</td>\n",
       "    </tr>\n",
       "    <tr>\n",
       "      <th>1</th>\n",
       "      <td>Abraham Lincoln Gettysburg</td>\n",
       "      <td>https://www.history.com/topics/american-civil-...</td>\n",
       "      <td>-11.535668</td>\n",
       "      <td>4.0</td>\n",
       "      <td>4</td>\n",
       "    </tr>\n",
       "    <tr>\n",
       "      <th>16</th>\n",
       "      <td>Abraham Lincoln Gettysburg</td>\n",
       "      <td>https://www.wuwm.com/post/seven-facts-you-didn...</td>\n",
       "      <td>-12.645569</td>\n",
       "      <td>0.0</td>\n",
       "      <td>5</td>\n",
       "    </tr>\n",
       "    <tr>\n",
       "      <th>14</th>\n",
       "      <td>Abraham Lincoln Gettysburg</td>\n",
       "      <td>https://dp.la/primary-source-sets/battle-of-ge...</td>\n",
       "      <td>-13.818051</td>\n",
       "      <td>4.0</td>\n",
       "      <td>6</td>\n",
       "    </tr>\n",
       "    <tr>\n",
       "      <th>6</th>\n",
       "      <td>Abraham Lincoln Gettysburg</td>\n",
       "      <td>https://usa.usembassy.de/etexts/democrac/25.htm</td>\n",
       "      <td>-14.041194</td>\n",
       "      <td>3.0</td>\n",
       "      <td>7</td>\n",
       "    </tr>\n",
       "    <tr>\n",
       "      <th>13</th>\n",
       "      <td>Abraham Lincoln Gettysburg</td>\n",
       "      <td>https://www.thedailybeast.com/how-abraham-linc...</td>\n",
       "      <td>-14.079415</td>\n",
       "      <td>0.0</td>\n",
       "      <td>8</td>\n",
       "    </tr>\n",
       "    <tr>\n",
       "      <th>17</th>\n",
       "      <td>Abraham Lincoln Gettysburg</td>\n",
       "      <td>http://gettysburg.stonesentinels.com/other-mon...</td>\n",
       "      <td>-14.146555</td>\n",
       "      <td>3.0</td>\n",
       "      <td>9</td>\n",
       "    </tr>\n",
       "    <tr>\n",
       "      <th>5</th>\n",
       "      <td>Abraham Lincoln Gettysburg</td>\n",
       "      <td>https://www.americanrhetoric.com/speeches/gett...</td>\n",
       "      <td>-14.580191</td>\n",
       "      <td>4.0</td>\n",
       "      <td>10</td>\n",
       "    </tr>\n",
       "    <tr>\n",
       "      <th>10</th>\n",
       "      <td>Abraham Lincoln Gettysburg</td>\n",
       "      <td>https://www.wbaltv.com/article/this-day-in-his...</td>\n",
       "      <td>-14.734341</td>\n",
       "      <td>0.0</td>\n",
       "      <td>11</td>\n",
       "    </tr>\n",
       "    <tr>\n",
       "      <th>7</th>\n",
       "      <td>Abraham Lincoln Gettysburg</td>\n",
       "      <td>https://boingboing.net/2019/07/04/abraham-linc...</td>\n",
       "      <td>-16.056097</td>\n",
       "      <td>4.0</td>\n",
       "      <td>12</td>\n",
       "    </tr>\n",
       "    <tr>\n",
       "      <th>9</th>\n",
       "      <td>Abraham Lincoln Gettysburg</td>\n",
       "      <td>https://www.nps.gov/gett/planyourvisit/dedicat...</td>\n",
       "      <td>-16.056097</td>\n",
       "      <td>0.0</td>\n",
       "      <td>13</td>\n",
       "    </tr>\n",
       "    <tr>\n",
       "      <th>2</th>\n",
       "      <td>Abraham Lincoln Gettysburg</td>\n",
       "      <td>https://rmc.library.cornell.edu/gettysburg/goo...</td>\n",
       "      <td>-17.442392</td>\n",
       "      <td>4.0</td>\n",
       "      <td>14</td>\n",
       "    </tr>\n",
       "    <tr>\n",
       "      <th>15</th>\n",
       "      <td>Abraham Lincoln Gettysburg</td>\n",
       "      <td>https://newsela.com/read/speeches-lincoln-gett...</td>\n",
       "      <td>-18.135539</td>\n",
       "      <td>0.0</td>\n",
       "      <td>15</td>\n",
       "    </tr>\n",
       "    <tr>\n",
       "      <th>4</th>\n",
       "      <td>Abraham Lincoln Gettysburg</td>\n",
       "      <td>https://www.independent.co.uk/news/world/ameri...</td>\n",
       "      <td>-19.521833</td>\n",
       "      <td>4.0</td>\n",
       "      <td>16</td>\n",
       "    </tr>\n",
       "    <tr>\n",
       "      <th>3</th>\n",
       "      <td>Abraham Lincoln Gettysburg</td>\n",
       "      <td>https://www.historynet.com/gettysburg-address-...</td>\n",
       "      <td>-19.521833</td>\n",
       "      <td>3.0</td>\n",
       "      <td>17</td>\n",
       "    </tr>\n",
       "  </tbody>\n",
       "</table>\n",
       "</div>"
      ],
      "text/plain": [
       "                         Query  \\\n",
       "0   Abraham Lincoln Gettysburg   \n",
       "12  Abraham Lincoln Gettysburg   \n",
       "8   Abraham Lincoln Gettysburg   \n",
       "11  Abraham Lincoln Gettysburg   \n",
       "1   Abraham Lincoln Gettysburg   \n",
       "16  Abraham Lincoln Gettysburg   \n",
       "14  Abraham Lincoln Gettysburg   \n",
       "6   Abraham Lincoln Gettysburg   \n",
       "13  Abraham Lincoln Gettysburg   \n",
       "17  Abraham Lincoln Gettysburg   \n",
       "5   Abraham Lincoln Gettysburg   \n",
       "10  Abraham Lincoln Gettysburg   \n",
       "7   Abraham Lincoln Gettysburg   \n",
       "9   Abraham Lincoln Gettysburg   \n",
       "2   Abraham Lincoln Gettysburg   \n",
       "15  Abraham Lincoln Gettysburg   \n",
       "4   Abraham Lincoln Gettysburg   \n",
       "3   Abraham Lincoln Gettysburg   \n",
       "\n",
       "                                                  URL      score  Ranking  \\\n",
       "0   http://www.abrahamlincolnonline.org/lincoln/sp...  -4.462883      1.0   \n",
       "12  https://quod.lib.umich.edu/j/jala/2629860.0016...  -8.004438      0.0   \n",
       "8   https://www.nationalaffairs.com/publications/d... -10.390536      4.0   \n",
       "11  https://www.theatlantic.com/magazine/archive/2... -11.171876      4.0   \n",
       "1   https://www.history.com/topics/american-civil-... -11.535668      4.0   \n",
       "16  https://www.wuwm.com/post/seven-facts-you-didn... -12.645569      0.0   \n",
       "14  https://dp.la/primary-source-sets/battle-of-ge... -13.818051      4.0   \n",
       "6     https://usa.usembassy.de/etexts/democrac/25.htm -14.041194      3.0   \n",
       "13  https://www.thedailybeast.com/how-abraham-linc... -14.079415      0.0   \n",
       "17  http://gettysburg.stonesentinels.com/other-mon... -14.146555      3.0   \n",
       "5   https://www.americanrhetoric.com/speeches/gett... -14.580191      4.0   \n",
       "10  https://www.wbaltv.com/article/this-day-in-his... -14.734341      0.0   \n",
       "7   https://boingboing.net/2019/07/04/abraham-linc... -16.056097      4.0   \n",
       "9   https://www.nps.gov/gett/planyourvisit/dedicat... -16.056097      0.0   \n",
       "2   https://rmc.library.cornell.edu/gettysburg/goo... -17.442392      4.0   \n",
       "15  https://newsela.com/read/speeches-lincoln-gett... -18.135539      0.0   \n",
       "4   https://www.independent.co.uk/news/world/ameri... -19.521833      4.0   \n",
       "3   https://www.historynet.com/gettysburg-address-... -19.521833      3.0   \n",
       "\n",
       "    Place  \n",
       "0       0  \n",
       "12      1  \n",
       "8       2  \n",
       "11      3  \n",
       "1       4  \n",
       "16      5  \n",
       "14      6  \n",
       "6       7  \n",
       "13      8  \n",
       "17      9  \n",
       "5      10  \n",
       "10     11  \n",
       "7      12  \n",
       "9      13  \n",
       "2      14  \n",
       "15     15  \n",
       "4      16  \n",
       "3      17  "
      ]
     },
     "execution_count": 92,
     "metadata": {},
     "output_type": "execute_result"
    }
   ],
   "source": [
    "temp"
   ]
  },
  {
   "cell_type": "markdown",
   "metadata": {},
   "source": [
    "# NDCG Evaluation"
   ]
  },
  {
   "cell_type": "code",
   "execution_count": 179,
   "metadata": {},
   "outputs": [],
   "source": [
    "def dcg(ranks, i):\n",
    "    value = ranks[0]\n",
    "    if i == 0:\n",
    "        return value\n",
    "    else:\n",
    "        for x in range(1,i+1):\n",
    "            value += (ranks[x])/(np.log2(x+1))\n",
    "        return value"
   ]
  },
  {
   "cell_type": "code",
   "execution_count": 180,
   "metadata": {},
   "outputs": [],
   "source": [
    "for query in queries:\n",
    "    temp = vector_df[vector_df['Query'] == query].sort_values(by=['score'], ascending=False)[['Query','URL','score', 'Ranking']]\n",
    "    \n",
    "    # ----------------------------------\n",
    "    y = [] \n",
    "    for x in range(len(temp)):\n",
    "        y.append(x)\n",
    "    temp['QL_rank'] = y\n",
    "    \n",
    "    # ----------------------------------\n",
    "    dcg_values = [0]*len(temp)\n",
    "    for i in range(len(temp)):\n",
    "        dcg_values[i] = dcg(list(temp.Ranking), i)\n",
    "    \n",
    "    # ----------------------------------\n",
    "    temp['DCG'] = dcg_values\n",
    "    if query == 'Celtics 11/20/2019':\n",
    "        temp.to_csv('Results/Celtic Query.csv')\n",
    "    else:\n",
    "        temp.to_csv('Results/' + str(query) + '.csv')\n"
   ]
  },
  {
   "cell_type": "code",
   "execution_count": 186,
   "metadata": {},
   "outputs": [],
   "source": [
    "testing = list(temp.Ranking).sort()"
   ]
  },
  {
   "cell_type": "code",
   "execution_count": null,
   "metadata": {},
   "outputs": [],
   "source": []
  },
  {
   "cell_type": "code",
   "execution_count": null,
   "metadata": {},
   "outputs": [],
   "source": []
  }
 ],
 "metadata": {
  "kernelspec": {
   "display_name": "Python 3",
   "language": "python",
   "name": "python3"
  },
  "language_info": {
   "codemirror_mode": {
    "name": "ipython",
    "version": 3
   },
   "file_extension": ".py",
   "mimetype": "text/x-python",
   "name": "python",
   "nbconvert_exporter": "python",
   "pygments_lexer": "ipython3",
   "version": "3.7.0"
  },
  "pycharm": {
   "stem_cell": {
    "cell_type": "raw",
    "metadata": {
     "collapsed": false
    },
    "source": []
   }
  }
 },
 "nbformat": 4,
 "nbformat_minor": 1
}
