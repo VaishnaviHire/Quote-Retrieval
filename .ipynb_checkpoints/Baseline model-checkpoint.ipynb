{
 "cells": [
  {
   "cell_type": "code",
   "execution_count": 1,
   "metadata": {
    "pycharm": {
     "is_executing": false
    }
   },
   "outputs": [],
   "source": [
    "# preprocess Links"
   ]
  },
  {
   "cell_type": "code",
   "execution_count": 74,
   "metadata": {},
   "outputs": [],
   "source": [
    "import spacy\n",
    "\n",
    "nlp = spacy.load('en_core_web_sm')"
   ]
  },
  {
   "cell_type": "code",
   "execution_count": 75,
   "metadata": {},
   "outputs": [],
   "source": [
    "import requests\n",
    "from bs4 import BeautifulSoup\n",
    "def get_clean_data(url):\n",
    "    content = requests.get(url)\n",
    "    bs = BeautifulSoup(content.text,'html.parser')\n",
    "    texts = bs.findAll(['title','p','strong','li',re.compile('^h[1-6]$')])\n",
    "    return texts\n"
   ]
  },
  {
   "cell_type": "code",
   "execution_count": 76,
   "metadata": {},
   "outputs": [],
   "source": [
    "import re\n",
    "def remove_tags(content):\n",
    "    cleanr = re.compile('<.*?>')\n",
    "    cleantext = re.sub(cleanr, '', content)\n",
    "    \n",
    "    return cleantext"
   ]
  },
  {
   "cell_type": "code",
   "execution_count": 77,
   "metadata": {},
   "outputs": [],
   "source": [
    "def remove_punctuation(content):\n",
    "    content = re.sub(\"_\", \"\", content)\n",
    "    content = re.sub(\"[^\\w\\s]\", \"\", content)\n",
    "    content = re.sub(' +', ' ', content)\n",
    "\n",
    "    return content"
   ]
  },
  {
   "cell_type": "code",
   "execution_count": 78,
   "metadata": {},
   "outputs": [
    {
     "name": "stdout",
     "output_type": "stream",
     "text": [
      "Elon Musk biography quotes publications and books toolshero Follow us Facebook Twitter Instagram YouTube Pinterest More Toolkit Change Management\n",
      "Communication Skills\n",
      "Creativity\n",
      "Decision Making\n",
      "Financial Management\n",
      "Human Resources HR\n",
      "Information Technology IT\n",
      "Innovation\n",
      "Leadership\n",
      "Management\n",
      "Marketing\n",
      "Personal Development\n",
      "Project Management\n",
      "Problem Solving\n",
      "Psychology\n",
      "Quality Management\n",
      "Strategy\n",
      "Toolsheroes\n",
      "\n",
      " Change Management Communication Skills Creativity Decision Making Financial Management Human Resources HR Information Technology IT Innovation Leadership Management Marketing Personal Development Project Management Problem Solving Psychology Quality Management Strategy Toolsheroes Templates Find Jobs Find Courses Find Tests More Menu Search Elon Musk Elon Musk is a CanadianAmerican entrepreneur He is the founder of SpaceX Tesla and Zip2 among others He was also one of the people responsible for the success of PayPal\n",
      "Currently he serves as CEO and Chief Designer CDO of SpaceX CEO and product architect of Tesla and chair of SolarCity Elon Musk Biography Elon Musk Elon Musk was born in Pretoria SouthAfrica on 28 June 1971 Hes the son of a Canadian model Maye Musk and a SouthAfrican electromechanical engineer Errol Musk His parents divorced in 1980 after which Musk lived with his father When he was 10 years old he discovered the Commodore VIC20 He taught himself to programme and sold a video game coded in BASIC two years later BASIC is an imperative programming language that was originally intended to help people learn programming very quickly The game was called Blastar and he sold it to PC and Office Technology magazine for 500 dollars soon after As a child Musk attended the independent Waterkloof House Preparatory School He did his final exams at Pretoria Boys High School and moved to Canada in June of 1989 He then became a Canadian citizen through his Canadian mother In 1989 Musk was admitted to Queens University in Kingston Ontario In 1992 after two years at Queens University Musk left for the University of Pennsylvania where he earned his Bachelor of Science degree in Physics from Penns College of Arts and Sciences and his Bachelor of Arts degree in Economics from the Wharton School of the University of Pennsylvania Musk continued for another year to get his second bachelor During his studies at the University of Pennsylvania Musk and fellow student Adeo Ressi bought a student house to use as a nightclub In 1995 at the age of 24 Musk moved to California to get his PhD in physics from Stanford University but left the university after just two days to start his own businesses in the fields of Internet sustainable energy and space He became an American citizen in 2002 When hes just twelve years old hes already a better programmer than his teachers At 24 he gives up his studies at Stanford University to start his first business Four years later that business is worth 300 million dollars and is bought by Compaq In 2002 eBay buys one of his other businesses PayPal for the considerable sum of 15 billion dollars He invests his considerable fortune in SpaceX 2002 Tesla Motors 2004 and SolarCity 2006 Zip2 Musk and his brother Kimbal founded Zip2 in 1995 an internet company They did so with investments from a group of business angels One of the things the company developed was an online city guide for newspapers Musk approached The New York Times and the Chicago Tribune During his time at Zip2 Elon wanted to become CEO of the company but none of Zip2s board members agreed Compaq bought Zip2 for 307 million American dollars of which 7 went to Musk amounting to 22 million dollars Xcom and PayPal In March of 1999 Musk founded Xcom an online payment platform He invested 10 million in it A year later the company merged with Confinity which had its own payment platform named PayPal The merged company focused on the services PayPal already had and continued under that name in 2001 PayPals early growth was driven by a promotion that offered money to new customers if they signed up PayPal was acquired by eBay in October of 2002 for oneandahalf billion dollars 165 million of that sum went to Musk Before the takeover Musk had been the largest shareholder with 117 of PayPals shares SpaceX In 2001 Musk came up with the concept Mars Oasis a project to have a small experimental greenhouse with food crops land on Mars to generate public interest in space exploration In October of 2001 Musk Jim Cantrell and Adeo Ressi travelled to Moscow to purchase old ICBMs that could shoot things into space Elon Musk quotes When something is important enough you do it even if the odds are not in your favor If you get up in the morning and think the future is going to be better it is a bright day Otherwise its not There have to be reasons that you get up in the morning and you want to live Why do you want to live Whats the point What inspires you What do you love about the future If the future does not include being out there among the stars and being a multiplanet species I find that incredibly depressing When Henry Ford made cheap reliable cars people said Nah whats wrong with a horse That was a huge bet he made and it worked Persistence is very important You should not give up unless you are forced to give up Its OK to have your eggs in one basket as long as you control what happens to that basket Failure is an option here If things are not failing you are not innovating enough Brand is just a perception and perception will match reality over time Sometimes it will be ahead other times it will be behind But brand is simply a collective impression some have about a product Starting and growing a business is as much about the innovation drive and determination of the people who do it as it is about the product they sell Were going to make it happen As God is my bloody witness Im hellbent on making it work The first step is to establish that something is possible then probability will occur People work better when they know what the goal is and why It is important that people look forward to coming to work in the morning and enjoy working I could either watch it happen or be a part of it Publications and Books by Elon Musk 2018 Making life multiplanetary New Space 61 211 2017 Making humans a multiplanetary species New Space 52 4661 2006 The secret Tesla Motors master plan just between you and me blog August 2 2001 US Patent No 6185194 Washington DC US Patent and Trademark Office 1999 US Patent No 5944769 Washington DC US Patent and Trademark Office How to cite this article\n",
      "Sari J 2019 Elon Musk Retrieved insert date from ToolsHero httpswwwtoolsherocomtoolsheroeselonmusk How to cite this article Add a link to this page on your website\n",
      "lta hrefhttpswwwtoolsherocomtoolsheroeselonmuskgtToolsHerocom Elon Musk ltagt Add a link to this page on your website Did you find this article interesting\n",
      "Your rating is more than welcome or share this article via Social media\n",
      " \n",
      "\n",
      "\n",
      "\n",
      " Elon Musk 435 5 17 votesYou need to enable JavaScript to vote\n",
      " Did you find this article interesting 0 SharesShare Tweet Pin it Share Email More Tagged Jessie Sari Jessie Sari is a content writer at ToolsHero Jessie studies Trade Management in Asia at the Hogeschool van Rotterdam As part of her education she focuses on building fundamental skills including marketing importing and exporting products and services in Asia economy finance management consultancy and project management Related Stories Warren Buffett Amy Cuddy Henry Ford Richard Branson Bill Gates Tony Robbins 1 comment Laffaz says October 13 2019 at 113 pm Great articleReply Great article Leave a Reply Cancel reply Your email address will not be published Required fields are marked Comment Name Email Website \n",
      "\n",
      " \n",
      "Current email protected \n",
      "\n",
      "\n",
      " \n",
      "Leave this field empty\n",
      "\n",
      " RECEIVE OUR NEWSLETTER Stay up to date with the latest management theories and methods WE ARE TOOLSHERO We are toolshero and we present and promote simplified scientific theories and methods to everybody whos interested worldwide We believe that by sharing knowledge we help visitors build legacy stimulate research and provide innovators a platform POPULAR TOPICS Change Management Leadership Marketing Management Problem Solving ABOUT TOOLSHERO About toolshero Mission and vision ToolsHero facts Become an author Useful links RECEIVE NEWS FREE TOOLSHERO TEMPLATE In addition to our newsletter you will receive our free Business Model You template to get started with your personal development   \n",
      "No thanks \n"
     ]
    }
   ],
   "source": [
    "data = get_clean_data('https://www.toolshero.com/toolsheroes/elon-musk/')\n",
    "print(remove_punctuation(remove_tags(str(data))))"
   ]
  },
  {
   "cell_type": "code",
   "execution_count": 79,
   "metadata": {},
   "outputs": [],
   "source": [
    "def convert_to_vector(content,vocabulary):\n",
    "    vector_dict = dict.fromkeys(vocabulary)\n",
    "    doc = nlp(content)\n",
    "    \n",
    "    for token in doc:\n",
    "        if token.text.lower() in vector_dict:\n",
    "            vector_dict[token.text.lower()] += 1\n",
    "    \n",
    "    return vector_dict.values()\n",
    "\n",
    "    "
   ]
  },
  {
   "cell_type": "code",
   "execution_count": 80,
   "metadata": {},
   "outputs": [],
   "source": [
    "def create_vocabulary(list_of_queries):\n",
    "    vocabulary = set()\n",
    "    for query in list_of_queries:\n",
    "        words = query.lower().split()\n",
    "        vocabulary.update(words)\n",
    "    \n",
    "    return vocabulary\n",
    "        "
   ]
  },
  {
   "cell_type": "code",
   "execution_count": null,
   "metadata": {},
   "outputs": [],
   "source": []
  },
  {
   "cell_type": "code",
   "execution_count": null,
   "metadata": {},
   "outputs": [],
   "source": []
  }
 ],
 "metadata": {
  "kernelspec": {
   "display_name": "Python 3",
   "language": "python",
   "name": "python3"
  },
  "language_info": {
   "codemirror_mode": {
    "name": "ipython",
    "version": 3
   },
   "file_extension": ".py",
   "mimetype": "text/x-python",
   "name": "python",
   "nbconvert_exporter": "python",
   "pygments_lexer": "ipython3",
   "version": "3.7.4"
  }
 },
 "nbformat": 4,
 "nbformat_minor": 1
}
