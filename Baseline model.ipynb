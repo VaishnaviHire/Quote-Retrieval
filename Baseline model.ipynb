{
 "cells": [
  {
   "cell_type": "code",
   "execution_count": 1,
   "metadata": {
    "pycharm": {
     "is_executing": false
    }
   },
   "outputs": [],
   "source": [
    "# preprocess Links"
   ]
  },
  {
   "cell_type": "code",
   "execution_count": 2,
   "metadata": {
    "pycharm": {
     "is_executing": false
    }
   },
   "outputs": [],
   "source": [
    "import spacy\n",
    "\n",
    "nlp = spacy.load('en_core_web_sm')"
   ]
  },
  {
   "cell_type": "code",
   "execution_count": 3,
   "metadata": {
    "pycharm": {
     "is_executing": false
    }
   },
   "outputs": [],
   "source": [
    "import requests\n",
    "from bs4 import BeautifulSoup\n",
    "import time\n",
    "\n",
    "def get_clean_data(url):\n",
    "    try :\n",
    "        content = requests.get(url)\n",
    "        content = content.text\n",
    "        \n",
    "    except(ConnectionError, Exception):\n",
    "        content = ''\n",
    "        \n",
    "    bs = BeautifulSoup(content,'html.parser')\n",
    "    texts = bs.findAll(['title','p','strong','li',re.compile('^h[1-6]$')])\n",
    "    return texts\n"
   ]
  },
  {
   "cell_type": "code",
   "execution_count": 4,
   "metadata": {
    "pycharm": {
     "is_executing": false
    }
   },
   "outputs": [],
   "source": [
    "import re\n",
    "def remove_tags(content):\n",
    "    cleanr = re.compile('<.*?>')\n",
    "    cleantext = re.sub(cleanr, '', content)\n",
    "    \n",
    "    return cleantext"
   ]
  },
  {
   "cell_type": "code",
   "execution_count": 5,
   "metadata": {
    "pycharm": {
     "is_executing": false
    }
   },
   "outputs": [],
   "source": [
    "def remove_punctuation(content):\n",
    "    content = re.sub(\"_\", \"\", content)\n",
    "    content = re.sub(\"[^\\w\\s]\", \"\", content)\n",
    "    content = re.sub(' +', ' ', content)\n",
    "    content = re.sub(\"\\n\", \"\", content)\n",
    "    return content"
   ]
  },
  {
   "cell_type": "code",
   "execution_count": 6,
   "metadata": {
    "pycharm": {
     "is_executing": false
    }
   },
   "outputs": [],
   "source": [
    "def convert_to_vector(content,vocabulary):\n",
    "    vector_dict = dict.fromkeys(vocabulary,0)\n",
    "    doc = nlp(content)\n",
    "\n",
    "    for token in doc:\n",
    "        if token.text.lower() in vector_dict:\n",
    "            vector_dict[token.text.lower()] += 1\n",
    "    \n",
    "    return vector_dict.values()"
   ]
  },
  {
   "cell_type": "code",
   "execution_count": 7,
   "metadata": {
    "pycharm": {
     "is_executing": false
    }
   },
   "outputs": [],
   "source": [
    "def create_vocabulary(list_of_queries):\n",
    "    vocabulary = set()\n",
    "    for query in list_of_queries:\n",
    "        words = query.lower().split()\n",
    "        vocabulary.update(words)\n",
    "    \n",
    "    return vocabulary   "
   ]
  },
  {
   "cell_type": "code",
   "execution_count": 8,
   "metadata": {
    "pycharm": {
     "is_executing": false,
     "name": "#%%\n"
    }
   },
   "outputs": [],
   "source": [
    "import pandas as pd"
   ]
  },
  {
   "cell_type": "code",
   "execution_count": 10,
   "metadata": {
    "pycharm": {
     "is_executing": false,
     "name": "#%%\n"
    }
   },
   "outputs": [],
   "source": [
    "dataset = pd.read_csv('Queries.csv', skipinitialspace = True, quotechar = '\"')"
   ]
  },
  {
   "cell_type": "code",
   "execution_count": 12,
   "metadata": {
    "pycharm": {
     "is_executing": false,
     "name": "#%%\n"
    }
   },
   "outputs": [],
   "source": [
    "vocab = create_vocabulary(list(set(dataset['Query'])))"
   ]
  },
  {
   "cell_type": "code",
   "execution_count": 14,
   "metadata": {},
   "outputs": [],
   "source": [
    "from multiprocessing import  Pool\n",
    "import numpy as np\n",
    "def parallelize_dataframe(df, func, n_cores=4):\n",
    "    df_split = np.array_split(df, n_cores)\n",
    "    pool = Pool(n_cores)\n",
    "    df = pd.concat(pool.map(func, df_split))\n",
    "    pool.close()\n",
    "    pool.join()\n",
    "    return df"
   ]
  },
  {
   "cell_type": "code",
   "execution_count": 15,
   "metadata": {},
   "outputs": [],
   "source": [
    "def clean_url(df):\n",
    "    df['text'] = df['URL'].apply(lambda x : remove_punctuation(remove_tags(str(get_clean_data(x)))).lower())\n",
    "    return df"
   ]
  },
  {
   "cell_type": "code",
   "execution_count": 16,
   "metadata": {},
   "outputs": [],
   "source": [
    "dataset_with_text = parallelize_dataframe(dataset,clean_url)"
   ]
  },
  {
   "cell_type": "code",
   "execution_count": 20,
   "metadata": {
    "pycharm": {
     "is_executing": false,
     "name": "#%%\n"
    }
   },
   "outputs": [],
   "source": [
    "def bag_of_word_df(dataset, vocab):\n",
    "    dataset = pd.concat([dataset,pd.DataFrame(columns=list(vocab))], sort=False)\n",
    "    for feature in vocab:\n",
    "        dataset[feature] = dataset['text'].apply(lambda x: x.count(' ' + feature + ' '))\n",
    "    return dataset"
   ]
  },
  {
   "cell_type": "code",
   "execution_count": 21,
   "metadata": {
    "pycharm": {
     "is_executing": false,
     "name": "#%%\n"
    }
   },
   "outputs": [],
   "source": [
    "vector_df = bag_of_word_df(dataset_with_text, vocab)"
   ]
  },
  {
   "cell_type": "markdown",
   "metadata": {},
   "source": [
    "# Query Likelihood Evaluation Baseline"
   ]
  },
  {
   "cell_type": "code",
   "execution_count": 28,
   "metadata": {
    "pycharm": {
     "is_executing": false,
     "name": "#%%\n"
    }
   },
   "outputs": [],
   "source": [
    "import numpy as np\n",
    "def get_likelihood_score(row, D):\n",
    "    tot = 0\n",
    "    for term in row['Query'].lower().split():\n",
    "        tot += np.log((row[term] + 1) /(D+ len(row.keys())-1))\n",
    "    return tot"
   ]
  },
  {
   "cell_type": "code",
   "execution_count": 29,
   "metadata": {
    "pycharm": {
     "is_executing": false,
     "name": "#%%\n"
    }
   },
   "outputs": [],
   "source": [
    "vector_df['score'] = [get_likelihood_score(row,len(vector_df)) for ind, row in vector_df.iterrows()]"
   ]
  },
  {
   "cell_type": "code",
   "execution_count": 34,
   "metadata": {
    "pycharm": {
     "is_executing": false,
     "name": "#%%\n"
    }
   },
   "outputs": [
    {
     "data": {
      "text/html": [
       "<div>\n",
       "<style scoped>\n",
       "    .dataframe tbody tr th:only-of-type {\n",
       "        vertical-align: middle;\n",
       "    }\n",
       "\n",
       "    .dataframe tbody tr th {\n",
       "        vertical-align: top;\n",
       "    }\n",
       "\n",
       "    .dataframe thead th {\n",
       "        text-align: right;\n",
       "    }\n",
       "</style>\n",
       "<table border=\"1\" class=\"dataframe\">\n",
       "  <thead>\n",
       "    <tr style=\"text-align: right;\">\n",
       "      <th></th>\n",
       "      <th>Query</th>\n",
       "      <th>URL</th>\n",
       "      <th>score</th>\n",
       "      <th>Ranking</th>\n",
       "    </tr>\n",
       "  </thead>\n",
       "  <tbody>\n",
       "    <tr>\n",
       "      <th>0</th>\n",
       "      <td>Abraham Lincoln Gettysburg</td>\n",
       "      <td>http://www.abrahamlincolnonline.org/lincoln/sp...</td>\n",
       "      <td>-3.405624</td>\n",
       "      <td>1.0</td>\n",
       "    </tr>\n",
       "    <tr>\n",
       "      <th>12</th>\n",
       "      <td>Abraham Lincoln Gettysburg</td>\n",
       "      <td>https://quod.lib.umich.edu/j/jala/2629860.0016...</td>\n",
       "      <td>-6.947179</td>\n",
       "      <td>0.0</td>\n",
       "    </tr>\n",
       "    <tr>\n",
       "      <th>8</th>\n",
       "      <td>Abraham Lincoln Gettysburg</td>\n",
       "      <td>https://www.nationalaffairs.com/publications/d...</td>\n",
       "      <td>-9.333277</td>\n",
       "      <td>4.0</td>\n",
       "    </tr>\n",
       "    <tr>\n",
       "      <th>11</th>\n",
       "      <td>Abraham Lincoln Gettysburg</td>\n",
       "      <td>https://www.theatlantic.com/magazine/archive/2...</td>\n",
       "      <td>-10.114617</td>\n",
       "      <td>4.0</td>\n",
       "    </tr>\n",
       "    <tr>\n",
       "      <th>1</th>\n",
       "      <td>Abraham Lincoln Gettysburg</td>\n",
       "      <td>https://www.history.com/topics/american-civil-...</td>\n",
       "      <td>-10.478409</td>\n",
       "      <td>4.0</td>\n",
       "    </tr>\n",
       "    <tr>\n",
       "      <th>16</th>\n",
       "      <td>Abraham Lincoln Gettysburg</td>\n",
       "      <td>https://www.wuwm.com/post/seven-facts-you-didn...</td>\n",
       "      <td>-11.588310</td>\n",
       "      <td>0.0</td>\n",
       "    </tr>\n",
       "    <tr>\n",
       "      <th>14</th>\n",
       "      <td>Abraham Lincoln Gettysburg</td>\n",
       "      <td>https://dp.la/primary-source-sets/battle-of-ge...</td>\n",
       "      <td>-12.760792</td>\n",
       "      <td>4.0</td>\n",
       "    </tr>\n",
       "    <tr>\n",
       "      <th>6</th>\n",
       "      <td>Abraham Lincoln Gettysburg</td>\n",
       "      <td>https://usa.usembassy.de/etexts/democrac/25.htm</td>\n",
       "      <td>-12.983935</td>\n",
       "      <td>3.0</td>\n",
       "    </tr>\n",
       "    <tr>\n",
       "      <th>13</th>\n",
       "      <td>Abraham Lincoln Gettysburg</td>\n",
       "      <td>https://www.thedailybeast.com/how-abraham-linc...</td>\n",
       "      <td>-13.022157</td>\n",
       "      <td>0.0</td>\n",
       "    </tr>\n",
       "    <tr>\n",
       "      <th>17</th>\n",
       "      <td>Abraham Lincoln Gettysburg</td>\n",
       "      <td>http://gettysburg.stonesentinels.com/other-mon...</td>\n",
       "      <td>-13.089296</td>\n",
       "      <td>3.0</td>\n",
       "    </tr>\n",
       "    <tr>\n",
       "      <th>5</th>\n",
       "      <td>Abraham Lincoln Gettysburg</td>\n",
       "      <td>https://www.americanrhetoric.com/speeches/gett...</td>\n",
       "      <td>-13.522932</td>\n",
       "      <td>4.0</td>\n",
       "    </tr>\n",
       "    <tr>\n",
       "      <th>10</th>\n",
       "      <td>Abraham Lincoln Gettysburg</td>\n",
       "      <td>https://www.wbaltv.com/article/this-day-in-his...</td>\n",
       "      <td>-13.677083</td>\n",
       "      <td>0.0</td>\n",
       "    </tr>\n",
       "    <tr>\n",
       "      <th>7</th>\n",
       "      <td>Abraham Lincoln Gettysburg</td>\n",
       "      <td>https://boingboing.net/2019/07/04/abraham-linc...</td>\n",
       "      <td>-14.998838</td>\n",
       "      <td>4.0</td>\n",
       "    </tr>\n",
       "    <tr>\n",
       "      <th>9</th>\n",
       "      <td>Abraham Lincoln Gettysburg</td>\n",
       "      <td>https://www.nps.gov/gett/planyourvisit/dedicat...</td>\n",
       "      <td>-14.998838</td>\n",
       "      <td>0.0</td>\n",
       "    </tr>\n",
       "    <tr>\n",
       "      <th>2</th>\n",
       "      <td>Abraham Lincoln Gettysburg</td>\n",
       "      <td>https://rmc.library.cornell.edu/gettysburg/goo...</td>\n",
       "      <td>-16.385133</td>\n",
       "      <td>4.0</td>\n",
       "    </tr>\n",
       "    <tr>\n",
       "      <th>15</th>\n",
       "      <td>Abraham Lincoln Gettysburg</td>\n",
       "      <td>https://newsela.com/read/speeches-lincoln-gett...</td>\n",
       "      <td>-17.078280</td>\n",
       "      <td>0.0</td>\n",
       "    </tr>\n",
       "    <tr>\n",
       "      <th>4</th>\n",
       "      <td>Abraham Lincoln Gettysburg</td>\n",
       "      <td>https://www.independent.co.uk/news/world/ameri...</td>\n",
       "      <td>-18.464574</td>\n",
       "      <td>4.0</td>\n",
       "    </tr>\n",
       "    <tr>\n",
       "      <th>3</th>\n",
       "      <td>Abraham Lincoln Gettysburg</td>\n",
       "      <td>https://www.historynet.com/gettysburg-address-...</td>\n",
       "      <td>-18.464574</td>\n",
       "      <td>3.0</td>\n",
       "    </tr>\n",
       "  </tbody>\n",
       "</table>\n",
       "</div>"
      ],
      "text/plain": [
       "                         Query  \\\n",
       "0   Abraham Lincoln Gettysburg   \n",
       "12  Abraham Lincoln Gettysburg   \n",
       "8   Abraham Lincoln Gettysburg   \n",
       "11  Abraham Lincoln Gettysburg   \n",
       "1   Abraham Lincoln Gettysburg   \n",
       "16  Abraham Lincoln Gettysburg   \n",
       "14  Abraham Lincoln Gettysburg   \n",
       "6   Abraham Lincoln Gettysburg   \n",
       "13  Abraham Lincoln Gettysburg   \n",
       "17  Abraham Lincoln Gettysburg   \n",
       "5   Abraham Lincoln Gettysburg   \n",
       "10  Abraham Lincoln Gettysburg   \n",
       "7   Abraham Lincoln Gettysburg   \n",
       "9   Abraham Lincoln Gettysburg   \n",
       "2   Abraham Lincoln Gettysburg   \n",
       "15  Abraham Lincoln Gettysburg   \n",
       "4   Abraham Lincoln Gettysburg   \n",
       "3   Abraham Lincoln Gettysburg   \n",
       "\n",
       "                                                  URL      score  Ranking  \n",
       "0   http://www.abrahamlincolnonline.org/lincoln/sp...  -3.405624      1.0  \n",
       "12  https://quod.lib.umich.edu/j/jala/2629860.0016...  -6.947179      0.0  \n",
       "8   https://www.nationalaffairs.com/publications/d...  -9.333277      4.0  \n",
       "11  https://www.theatlantic.com/magazine/archive/2... -10.114617      4.0  \n",
       "1   https://www.history.com/topics/american-civil-... -10.478409      4.0  \n",
       "16  https://www.wuwm.com/post/seven-facts-you-didn... -11.588310      0.0  \n",
       "14  https://dp.la/primary-source-sets/battle-of-ge... -12.760792      4.0  \n",
       "6     https://usa.usembassy.de/etexts/democrac/25.htm -12.983935      3.0  \n",
       "13  https://www.thedailybeast.com/how-abraham-linc... -13.022157      0.0  \n",
       "17  http://gettysburg.stonesentinels.com/other-mon... -13.089296      3.0  \n",
       "5   https://www.americanrhetoric.com/speeches/gett... -13.522932      4.0  \n",
       "10  https://www.wbaltv.com/article/this-day-in-his... -13.677083      0.0  \n",
       "7   https://boingboing.net/2019/07/04/abraham-linc... -14.998838      4.0  \n",
       "9   https://www.nps.gov/gett/planyourvisit/dedicat... -14.998838      0.0  \n",
       "2   https://rmc.library.cornell.edu/gettysburg/goo... -16.385133      4.0  \n",
       "15  https://newsela.com/read/speeches-lincoln-gett... -17.078280      0.0  \n",
       "4   https://www.independent.co.uk/news/world/ameri... -18.464574      4.0  \n",
       "3   https://www.historynet.com/gettysburg-address-... -18.464574      3.0  "
      ]
     },
     "execution_count": 34,
     "metadata": {},
     "output_type": "execute_result"
    }
   ],
   "source": [
    "vector_df[vector_df['Query'] == 'Abraham Lincoln Gettysburg'].sort_values(by=['score'], ascending=False)[['Query','URL','score', 'Ranking']]"
   ]
  },
  {
   "cell_type": "code",
   "execution_count": null,
   "metadata": {
    "pycharm": {
     "is_executing": false,
     "name": "#%%\n"
    }
   },
   "outputs": [],
   "source": [
    "\"\"\"\n",
    "Note: This code is not necissary \n",
    "\"\"\"\n",
    "# def score_fix(row):\n",
    "#     score = row['score']\n",
    "#     if vocab_df['score'].quantile(.2) > score:\n",
    "#         return 0\n",
    "#     elif vocab_df['score'].quantile(.4) > score:\n",
    "#         return 1\n",
    "#     elif vocab_df['score'].quantile(.6) > score:\n",
    "#         return 2\n",
    "#     elif vocab_df['score'].quantile(.8) > score:\n",
    "#         return 3\n",
    "#     else:\n",
    "#         return 4\n",
    "#\n",
    "# vocab_df[\"fitted_score\"]=vocab_df.apply(score_fix, axis=1)"
   ]
  },
  {
   "cell_type": "code",
   "execution_count": null,
   "metadata": {
    "pycharm": {
     "is_executing": false
    }
   },
   "outputs": [],
   "source": []
  }
 ],
 "metadata": {
  "kernelspec": {
   "display_name": "Python 3",
   "language": "python",
   "name": "python3"
  },
  "language_info": {
   "codemirror_mode": {
    "name": "ipython",
    "version": 3
   },
   "file_extension": ".py",
   "mimetype": "text/x-python",
   "name": "python",
   "nbconvert_exporter": "python",
   "pygments_lexer": "ipython3",
   "version": "3.7.0"
  },
  "pycharm": {
   "stem_cell": {
    "cell_type": "raw",
    "metadata": {
     "collapsed": false
    },
    "source": []
   }
  }
 },
 "nbformat": 4,
 "nbformat_minor": 1
}
