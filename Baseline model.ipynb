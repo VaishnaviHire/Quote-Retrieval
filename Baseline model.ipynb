{
 "cells": [
  {
   "cell_type": "code",
   "execution_count": 1,
   "metadata": {
    "pycharm": {
     "is_executing": false
    }
   },
   "outputs": [],
   "source": [
    "# preprocess Links"
   ]
  },
  {
   "cell_type": "code",
   "execution_count": 2,
   "metadata": {
    "pycharm": {
     "is_executing": false
    }
   },
   "outputs": [],
   "source": [
    "# import spacy\n",
    "\n",
    "# nlp = spacy.load('en_core_web_sm')"
   ]
  },
  {
   "cell_type": "code",
   "execution_count": 3,
   "metadata": {
    "pycharm": {
     "is_executing": false
    }
   },
   "outputs": [],
   "source": [
    "import requests\n",
    "from bs4 import BeautifulSoup\n",
    "import time\n",
    "\n",
    "def get_clean_data(url):\n",
    "    try :\n",
    "        content = requests.get(url)\n",
    "        content = content.text\n",
    "        \n",
    "    except(ConnectionError, Exception):\n",
    "        content = ''\n",
    "        \n",
    "    bs = BeautifulSoup(content,'html.parser')\n",
    "    texts = bs.findAll(['title','p','strong','li',re.compile('^h[1-6]$')])\n",
    "    return texts\n"
   ]
  },
  {
   "cell_type": "code",
   "execution_count": 4,
   "metadata": {
    "pycharm": {
     "is_executing": false
    }
   },
   "outputs": [],
   "source": [
    "import re\n",
    "def remove_tags(content):\n",
    "    cleanr = re.compile('<.*?>')\n",
    "    cleantext = re.sub(cleanr, '', content)\n",
    "    \n",
    "    return cleantext"
   ]
  },
  {
   "cell_type": "code",
   "execution_count": 5,
   "metadata": {
    "pycharm": {
     "is_executing": false
    }
   },
   "outputs": [],
   "source": [
    "def remove_punctuation(content):\n",
    "    content = re.sub(\"_\", \"\", content)\n",
    "    content = re.sub(\"[^\\w\\s]\", \"\", content)\n",
    "    content = re.sub(' +', ' ', content)\n",
    "    content = re.sub(\"\\n\", \"\", content)\n",
    "    return content"
   ]
  },
  {
   "cell_type": "code",
   "execution_count": 6,
   "metadata": {
    "pycharm": {
     "is_executing": false
    }
   },
   "outputs": [],
   "source": [
    "# def convert_to_vector(content,vocabulary):\n",
    "#     vector_dict = dict.fromkeys(vocabulary,0)\n",
    "#     doc = nlp(content)\n",
    "\n",
    "#     for token in doc:\n",
    "#         if token.text.lower() in vector_dict:\n",
    "#             vector_dict[token.text.lower()] += 1\n",
    "    \n",
    "#     return vector_dict.values()"
   ]
  },
  {
   "cell_type": "code",
   "execution_count": 7,
   "metadata": {
    "pycharm": {
     "is_executing": false
    }
   },
   "outputs": [],
   "source": [
    "def create_vocabulary(list_of_queries):\n",
    "    vocabulary = set()\n",
    "    for query in list_of_queries:\n",
    "        words = query.lower().split()\n",
    "        vocabulary.update(words)\n",
    "    \n",
    "    return vocabulary   "
   ]
  },
  {
   "cell_type": "code",
   "execution_count": 8,
   "metadata": {
    "pycharm": {
     "is_executing": false,
     "name": "#%%\n"
    }
   },
   "outputs": [],
   "source": [
    "import pandas as pd"
   ]
  },
  {
   "cell_type": "code",
   "execution_count": 9,
   "metadata": {
    "pycharm": {
     "is_executing": false,
     "name": "#%%\n"
    }
   },
   "outputs": [],
   "source": [
    "dataset = pd.read_csv('Queries.csv', skipinitialspace = True, quotechar = '\"')"
   ]
  },
  {
   "cell_type": "code",
   "execution_count": 10,
   "metadata": {
    "pycharm": {
     "is_executing": false,
     "name": "#%%\n"
    }
   },
   "outputs": [],
   "source": [
    "vocab = create_vocabulary(list(set(dataset['Query'])))"
   ]
  },
  {
   "cell_type": "code",
   "execution_count": 11,
   "metadata": {},
   "outputs": [],
   "source": [
    "from multiprocessing import  Pool\n",
    "import numpy as np\n",
    "def parallelize_dataframe(df, func, n_cores=4):\n",
    "    df_split = np.array_split(df, n_cores)\n",
    "    pool = Pool(n_cores)\n",
    "    df = pd.concat(pool.map(func, df_split))\n",
    "    pool.close()\n",
    "    pool.join()\n",
    "    return df"
   ]
  },
  {
   "cell_type": "code",
   "execution_count": 12,
   "metadata": {},
   "outputs": [],
   "source": [
    "def clean_url(df):\n",
    "    df['text'] = df['URL'].apply(lambda x : remove_punctuation(remove_tags(str(get_clean_data(x)))).lower())\n",
    "    return df"
   ]
  },
  {
   "cell_type": "code",
   "execution_count": 13,
   "metadata": {},
   "outputs": [],
   "source": [
    "dataset_with_text = parallelize_dataframe(dataset,clean_url)"
   ]
  },
  {
   "cell_type": "code",
   "execution_count": 14,
   "metadata": {
    "pycharm": {
     "is_executing": false,
     "name": "#%%\n"
    }
   },
   "outputs": [],
   "source": [
    "def bag_of_word_df(dataset, vocab):\n",
    "    dataset = pd.concat([dataset,pd.DataFrame(columns=list(vocab))], sort=False)\n",
    "    for feature in vocab:\n",
    "        dataset[feature] = dataset['text'].apply(lambda x: x.count(' ' + feature + ' '))\n",
    "    return dataset"
   ]
  },
  {
   "cell_type": "code",
   "execution_count": 15,
   "metadata": {
    "pycharm": {
     "is_executing": false,
     "name": "#%%\n"
    }
   },
   "outputs": [],
   "source": [
    "vector_df = bag_of_word_df(dataset_with_text, vocab)"
   ]
  },
  {
   "cell_type": "code",
   "execution_count": 16,
   "metadata": {},
   "outputs": [],
   "source": [
    "queries = set(vector_df.Query)"
   ]
  },
  {
   "cell_type": "markdown",
   "metadata": {},
   "source": [
    "# Query Likelihood Evaluation Baseline"
   ]
  },
  {
   "cell_type": "code",
   "execution_count": 17,
   "metadata": {
    "pycharm": {
     "is_executing": false,
     "name": "#%%\n"
    }
   },
   "outputs": [],
   "source": [
    "import numpy as np\n",
    "def get_likelihood_score(row, D):\n",
    "    tot = 0\n",
    "    for term in row['Query'].lower().split():\n",
    "        tot += np.log((row[term] + 1) /(D+ len(row.keys())-1))\n",
    "    return tot"
   ]
  },
  {
   "cell_type": "code",
   "execution_count": 18,
   "metadata": {
    "pycharm": {
     "is_executing": false,
     "name": "#%%\n"
    }
   },
   "outputs": [],
   "source": [
    "vector_df['score'] = [get_likelihood_score(row,len(vector_df)) for ind, row in vector_df.iterrows()]"
   ]
  },
  {
   "cell_type": "markdown",
   "metadata": {},
   "source": [
    "# NDCG Evaluation"
   ]
  },
  {
   "cell_type": "code",
   "execution_count": 19,
   "metadata": {},
   "outputs": [],
   "source": [
    "def dcg(ranks, i):\n",
    "    value = ranks[0]\n",
    "    if i == 0:\n",
    "        return value\n",
    "    else:\n",
    "        for x in range(1,i+1):\n",
    "            value += (ranks[x])/(np.log2(x+1))\n",
    "        return value"
   ]
  },
  {
   "cell_type": "code",
   "execution_count": 20,
   "metadata": {},
   "outputs": [],
   "source": [
    "for query in queries:\n",
    "    temp = vector_df[vector_df['Query'] == query].sort_values(by=['score'], ascending=False)[['Query','URL','score', 'Ranking']]\n",
    "    \n",
    "    # ----------------------------------\n",
    "    y = [] \n",
    "    for x in range(len(temp)):\n",
    "        y.append(x)\n",
    "    temp['QL_rank'] = y\n",
    "    \n",
    "    # ----------------------------------\n",
    "    dcg_values = [0]*len(temp)\n",
    "    for i in range(len(temp)):\n",
    "        dcg_values[i] = dcg(list(temp.Ranking), i)\n",
    "    temp['DCG'] = dcg_values\n",
    "    \n",
    "    # ----------------------------------\n",
    "    ideal = list(temp.Ranking)\n",
    "    ideal.sort(reverse = True)\n",
    "    dcg_ideal = [0]*len(temp)\n",
    "    for j in range(len(temp)):\n",
    "        dcg_ideal[j] = dcg(ideal, j)\n",
    "    \n",
    "    norm = [a/b for a,b in zip(dcg_values,dcg_ideal)]\n",
    "    temp['NDCG'] = norm\n",
    "    # ----------------------------------\n",
    "    if query == 'Celtics 11/20/2019':\n",
    "        temp.to_csv('Results/Celtic Query.csv')\n",
    "    else:\n",
    "        temp.to_csv('Results/' + str(query) + '.csv')\n"
   ]
  },
  {
   "cell_type": "markdown",
   "metadata": {},
   "source": [
    "# Graphing Tool"
   ]
  },
  {
   "cell_type": "code",
   "execution_count": 21,
   "metadata": {},
   "outputs": [],
   "source": [
    "import numpy as np\n",
    "import matplotlib.pyplot as plt\n",
    "def get_query_graph(dir_path):\n",
    "    content = pd.read_csv(dir_path)\n",
    "    query = (dir_path.split('/')[1].split('.')[0])\n",
    "    plt.title(\"Query: \" + str(query))\n",
    "    plt.plot(range(1, len(content)+1),content['NDCG'], marker='o')\n",
    "    plt.xticks(range(1, len(content)+1))\n",
    "    plt.xlabel(\"Rank @N \")\n",
    "    plt.ylabel(\"NDCG Value\")"
   ]
  },
  {
   "cell_type": "code",
   "execution_count": 30,
   "metadata": {},
   "outputs": [
    {
     "data": {
      "image/png": "[encoded data removed]",
      "text/plain": [
       "<Figure size 432x288 with 1 Axes>"
      ]
     },
     "metadata": {
      "needs_background": "light"
     },
     "output_type": "display_data"
    }
   ],
   "source": [
    "get_query_graph('Results/Gladiator Russell Crowe Quotes.csv')"
   ]
  },
  {
   "cell_type": "code",
   "execution_count": null,
   "metadata": {},
   "outputs": [],
   "source": []
  }
 ],
 "metadata": {
  "kernelspec": {
   "display_name": "Python 3",
   "language": "python",
   "name": "python3"
  },
  "language_info": {
   "codemirror_mode": {
    "name": "ipython",
    "version": 3
   },
   "file_extension": ".py",
   "mimetype": "text/x-python",
   "name": "python",
   "nbconvert_exporter": "python",
   "pygments_lexer": "ipython3",
   "version": "3.7.0"
  },
  "pycharm": {
   "stem_cell": {
    "cell_type": "raw",
    "metadata": {
     "collapsed": false
    },
    "source": []
   }
  }
 },
 "nbformat": 4,
 "nbformat_minor": 1
}
