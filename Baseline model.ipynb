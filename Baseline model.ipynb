{
 "cells": [
  {
   "cell_type": "code",
   "execution_count": 1,
   "metadata": {
    "pycharm": {
     "is_executing": false
    }
   },
   "outputs": [],
   "source": [
    "# preprocess Links"
   ]
  },
  {
   "cell_type": "code",
   "execution_count": 36,
   "metadata": {
    "pycharm": {
     "is_executing": false
    }
   },
   "outputs": [],
   "source": [
    "import spacy\n",
    "\n",
    "nlp = spacy.load('en_core_web_sm')"
   ]
  },
  {
   "cell_type": "code",
   "execution_count": 37,
   "metadata": {
    "pycharm": {
     "is_executing": false
    }
   },
   "outputs": [],
   "source": [
    "import requests\n",
    "from bs4 import BeautifulSoup\n",
    "import time\n",
    "\n",
    "def get_clean_data(url):\n",
    "    try :\n",
    "        content = requests.get(url)\n",
    "        content = content.text\n",
    "        \n",
    "    except(ConnectionError, Exception):\n",
    "        content = ''\n",
    "        \n",
    "    bs = BeautifulSoup(content,'html.parser')\n",
    "    texts = bs.findAll(['title','p','strong','li',re.compile('^h[1-6]$')])\n",
    "    return texts\n"
   ]
  },
  {
   "cell_type": "code",
   "execution_count": 38,
   "metadata": {
    "pycharm": {
     "is_executing": false
    }
   },
   "outputs": [],
   "source": [
    "import re\n",
    "def remove_tags(content):\n",
    "    cleanr = re.compile('<.*?>')\n",
    "    cleantext = re.sub(cleanr, '', content)\n",
    "    \n",
    "    return cleantext"
   ]
  },
  {
   "cell_type": "code",
   "execution_count": 39,
   "metadata": {
    "pycharm": {
     "is_executing": false
    }
   },
   "outputs": [],
   "source": [
    "def remove_punctuation(content):\n",
    "    content = re.sub(\"_\", \"\", content)\n",
    "    content = re.sub(\"[^\\w\\s]\", \"\", content)\n",
    "    content = re.sub(' +', ' ', content)\n",
    "    content = re.sub(\"\\n\", \"\", content)\n",
    "    return content"
   ]
  },
  {
   "cell_type": "code",
   "execution_count": 40,
   "metadata": {
    "pycharm": {
     "is_executing": false
    }
   },
   "outputs": [],
   "source": [
    "def convert_to_vector(content,vocabulary):\n",
    "    vector_dict = dict.fromkeys(vocabulary,0)\n",
    "    doc = nlp(content)\n",
    "\n",
    "    for token in doc:\n",
    "        if token.text.lower() in vector_dict:\n",
    "            vector_dict[token.text.lower()] += 1\n",
    "    \n",
    "    return vector_dict.values()"
   ]
  },
  {
   "cell_type": "code",
   "execution_count": 41,
   "metadata": {
    "pycharm": {
     "is_executing": false
    }
   },
   "outputs": [],
   "source": [
    "def create_vocabulary(list_of_queries):\n",
    "    vocabulary = set()\n",
    "    for query in list_of_queries:\n",
    "        words = query.lower().split()\n",
    "        vocabulary.update(words)\n",
    "    \n",
    "    return vocabulary   "
   ]
  },
  {
   "cell_type": "code",
   "execution_count": 42,
   "metadata": {
    "pycharm": {
     "is_executing": false,
     "name": "#%%\n"
    }
   },
   "outputs": [],
   "source": [
    "import pandas as pd"
   ]
  },
  {
   "cell_type": "code",
   "execution_count": 43,
   "metadata": {
    "pycharm": {
     "is_executing": false,
     "name": "#%%\n"
    }
   },
   "outputs": [],
   "source": [
    "dataset = pd.read_csv('Queries.csv', skipinitialspace = True, quotechar = '\"')"
   ]
  },
  {
   "cell_type": "code",
   "execution_count": 44,
   "metadata": {
    "pycharm": {
     "is_executing": false,
     "name": "#%%\n"
    }
   },
   "outputs": [],
   "source": [
    "vocab = create_vocabulary(list(set(dataset['Query'])))"
   ]
  },
  {
   "cell_type": "code",
   "execution_count": 45,
   "metadata": {},
   "outputs": [],
   "source": [
    "from multiprocessing import  Pool\n",
    "import numpy as np\n",
    "def parallelize_dataframe(df, func, n_cores=4):\n",
    "    df_split = np.array_split(df, n_cores)\n",
    "    pool = Pool(n_cores)\n",
    "    df = pd.concat(pool.map(func, df_split))\n",
    "    pool.close()\n",
    "    pool.join()\n",
    "    return df"
   ]
  },
  {
   "cell_type": "code",
   "execution_count": 46,
   "metadata": {},
   "outputs": [],
   "source": [
    "def clean_url(df):\n",
    "    df['text'] = df['URL'].apply(lambda x : remove_punctuation(remove_tags(str(get_clean_data(x)))).lower())\n",
    "    return df"
   ]
  },
  {
   "cell_type": "code",
   "execution_count": 48,
   "metadata": {},
   "outputs": [],
   "source": [
    "dataset_with_text = parallelize_dataframe(dataset,clean_url)"
   ]
  },
  {
   "cell_type": "code",
   "execution_count": 49,
   "metadata": {
    "pycharm": {
     "is_executing": false,
     "name": "#%%\n"
    }
   },
   "outputs": [],
   "source": [
    "def bag_of_word_df(dataset, vocab):\n",
    "    dataset = pd.concat([dataset,pd.DataFrame(columns=list(vocab))], sort=False)\n",
    "    for feature in vocab:\n",
    "        dataset[feature] = dataset['text'].apply(lambda x: x.count(' ' + feature + ' '))\n",
    "    return dataset"
   ]
  },
  {
   "cell_type": "code",
   "execution_count": 50,
   "metadata": {
    "pycharm": {
     "is_executing": false,
     "name": "#%%\n"
    }
   },
   "outputs": [],
   "source": [
    "vector_df = bag_of_word_df(dataset_with_text, vocab)"
   ]
  },
  {
   "cell_type": "code",
   "execution_count": 93,
   "metadata": {},
   "outputs": [],
   "source": [
    "queries = set(vector_df.Query)"
   ]
  },
  {
   "cell_type": "markdown",
   "metadata": {},
   "source": [
    "# Query Likelihood Evaluation Baseline"
   ]
  },
  {
   "cell_type": "code",
   "execution_count": 94,
   "metadata": {},
   "outputs": [
    {
     "data": {
      "text/plain": [
       "{\"AJ Green's Health\",\n",
       " 'Abraham Lincoln Gettysburg',\n",
       " 'Battles fought by Guru Gobind Singh',\n",
       " 'Bill Simmons Roger Goodell',\n",
       " 'Celtics 11/20/2019',\n",
       " 'Elon musk interview',\n",
       " 'Elon musk news',\n",
       " 'Elon musk speech',\n",
       " 'Facts about Sushruta',\n",
       " \"Gandhi's views on truth\",\n",
       " 'Gladiator Russell Crowe Quotes',\n",
       " 'JFK space race',\n",
       " \"Jack Ma's\\xa0 and Elon Musk's views on AI\",\n",
       " 'Jeff Bezos portrayed by top business magazines like Forbes',\n",
       " 'Kim Jong-un relationship with China',\n",
       " 'Leonardo da Vinci Quotes',\n",
       " 'Mohammad Ali',\n",
       " 'Mohammad Ali Sting like a bee',\n",
       " \"Narendra Modi's view on Indian Economy\",\n",
       " 'President Obama Inauguration',\n",
       " \"Sundar pichai's views on H-1B visa policy by the Trump Government\",\n",
       " 'Warren Buffet views and media interactions in regard to start-ups',\n",
       " 'World Media views on Imran Khan',\n",
       " 'elon musk interview with nyt',\n",
       " 'elon musk latest',\n",
       " 'elon musk on clean energy',\n",
       " 'elon musk on self driving cars',\n",
       " 'elon musk twitter',\n",
       " 'quotes and opinions of elon musk, as attributed to them in news articles, social media, books, etc.',\n",
       " 'quotes by Elon Musk'}"
      ]
     },
     "execution_count": 94,
     "metadata": {},
     "output_type": "execute_result"
    }
   ],
   "source": [
    "queries"
   ]
  },
  {
   "cell_type": "code",
   "execution_count": 51,
   "metadata": {
    "pycharm": {
     "is_executing": false,
     "name": "#%%\n"
    }
   },
   "outputs": [],
   "source": [
    "import numpy as np\n",
    "def get_likelihood_score(row, D):\n",
    "    tot = 0\n",
    "    for term in row['Query'].lower().split():\n",
    "        tot += np.log((row[term] + 1) /(D+ len(row.keys())-1))\n",
    "    return tot"
   ]
  },
  {
   "cell_type": "code",
   "execution_count": 52,
   "metadata": {
    "pycharm": {
     "is_executing": false,
     "name": "#%%\n"
    }
   },
   "outputs": [],
   "source": [
    "vector_df['score'] = [get_likelihood_score(row,len(vector_df)) for ind, row in vector_df.iterrows()]"
   ]
  },
  {
   "cell_type": "code",
   "execution_count": null,
   "metadata": {
    "pycharm": {
     "is_executing": false,
     "name": "#%%\n"
    }
   },
   "outputs": [],
   "source": [
    "\"\"\"\n",
    "Note: This code is not necissary \n",
    "\"\"\"\n",
    "# def score_fix(row):\n",
    "#     score = row['score']\n",
    "#     if vocab_df['score'].quantile(.2) > score:\n",
    "#         return 0\n",
    "#     elif vocab_df['score'].quantile(.4) > score:\n",
    "#         return 1\n",
    "#     elif vocab_df['score'].quantile(.6) > score:\n",
    "#         return 2\n",
    "#     elif vocab_df['score'].quantile(.8) > score:\n",
    "#         return 3\n",
    "#     else:\n",
    "#         return 4\n",
    "#\n",
    "# vocab_df[\"fitted_score\"]=vocab_df.apply(score_fix, axis=1)"
   ]
  },
  {
   "cell_type": "code",
   "execution_count": 92,
   "metadata": {},
   "outputs": [
    {
     "data": {
      "text/html": [
       "<div>\n",
       "<style scoped>\n",
       "    .dataframe tbody tr th:only-of-type {\n",
       "        vertical-align: middle;\n",
       "    }\n",
       "\n",
       "    .dataframe tbody tr th {\n",
       "        vertical-align: top;\n",
       "    }\n",
       "\n",
       "    .dataframe thead th {\n",
       "        text-align: right;\n",
       "    }\n",
       "</style>\n",
       "<table border=\"1\" class=\"dataframe\">\n",
       "  <thead>\n",
       "    <tr style=\"text-align: right;\">\n",
       "      <th></th>\n",
       "      <th>Query</th>\n",
       "      <th>URL</th>\n",
       "      <th>score</th>\n",
       "      <th>Ranking</th>\n",
       "      <th>Place</th>\n",
       "    </tr>\n",
       "  </thead>\n",
       "  <tbody>\n",
       "    <tr>\n",
       "      <th>0</th>\n",
       "      <td>Abraham Lincoln Gettysburg</td>\n",
       "      <td>http://www.abrahamlincolnonline.org/lincoln/sp...</td>\n",
       "      <td>-4.462883</td>\n",
       "      <td>1.0</td>\n",
       "      <td>0</td>\n",
       "    </tr>\n",
       "    <tr>\n",
       "      <th>12</th>\n",
       "      <td>Abraham Lincoln Gettysburg</td>\n",
       "      <td>https://quod.lib.umich.edu/j/jala/2629860.0016...</td>\n",
       "      <td>-8.004438</td>\n",
       "      <td>0.0</td>\n",
       "      <td>1</td>\n",
       "    </tr>\n",
       "    <tr>\n",
       "      <th>8</th>\n",
       "      <td>Abraham Lincoln Gettysburg</td>\n",
       "      <td>https://www.nationalaffairs.com/publications/d...</td>\n",
       "      <td>-10.390536</td>\n",
       "      <td>4.0</td>\n",
       "      <td>2</td>\n",
       "    </tr>\n",
       "    <tr>\n",
       "      <th>11</th>\n",
       "      <td>Abraham Lincoln Gettysburg</td>\n",
       "      <td>https://www.theatlantic.com/magazine/archive/2...</td>\n",
       "      <td>-11.171876</td>\n",
       "      <td>4.0</td>\n",
       "      <td>3</td>\n",
       "    </tr>\n",
       "    <tr>\n",
       "      <th>1</th>\n",
       "      <td>Abraham Lincoln Gettysburg</td>\n",
       "      <td>https://www.history.com/topics/american-civil-...</td>\n",
       "      <td>-11.535668</td>\n",
       "      <td>4.0</td>\n",
       "      <td>4</td>\n",
       "    </tr>\n",
       "    <tr>\n",
       "      <th>16</th>\n",
       "      <td>Abraham Lincoln Gettysburg</td>\n",
       "      <td>https://www.wuwm.com/post/seven-facts-you-didn...</td>\n",
       "      <td>-12.645569</td>\n",
       "      <td>0.0</td>\n",
       "      <td>5</td>\n",
       "    </tr>\n",
       "    <tr>\n",
       "      <th>14</th>\n",
       "      <td>Abraham Lincoln Gettysburg</td>\n",
       "      <td>https://dp.la/primary-source-sets/battle-of-ge...</td>\n",
       "      <td>-13.818051</td>\n",
       "      <td>4.0</td>\n",
       "      <td>6</td>\n",
       "    </tr>\n",
       "    <tr>\n",
       "      <th>6</th>\n",
       "      <td>Abraham Lincoln Gettysburg</td>\n",
       "      <td>https://usa.usembassy.de/etexts/democrac/25.htm</td>\n",
       "      <td>-14.041194</td>\n",
       "      <td>3.0</td>\n",
       "      <td>7</td>\n",
       "    </tr>\n",
       "    <tr>\n",
       "      <th>13</th>\n",
       "      <td>Abraham Lincoln Gettysburg</td>\n",
       "      <td>https://www.thedailybeast.com/how-abraham-linc...</td>\n",
       "      <td>-14.079415</td>\n",
       "      <td>0.0</td>\n",
       "      <td>8</td>\n",
       "    </tr>\n",
       "    <tr>\n",
       "      <th>17</th>\n",
       "      <td>Abraham Lincoln Gettysburg</td>\n",
       "      <td>http://gettysburg.stonesentinels.com/other-mon...</td>\n",
       "      <td>-14.146555</td>\n",
       "      <td>3.0</td>\n",
       "      <td>9</td>\n",
       "    </tr>\n",
       "    <tr>\n",
       "      <th>5</th>\n",
       "      <td>Abraham Lincoln Gettysburg</td>\n",
       "      <td>https://www.americanrhetoric.com/speeches/gett...</td>\n",
       "      <td>-14.580191</td>\n",
       "      <td>4.0</td>\n",
       "      <td>10</td>\n",
       "    </tr>\n",
       "    <tr>\n",
       "      <th>10</th>\n",
       "      <td>Abraham Lincoln Gettysburg</td>\n",
       "      <td>https://www.wbaltv.com/article/this-day-in-his...</td>\n",
       "      <td>-14.734341</td>\n",
       "      <td>0.0</td>\n",
       "      <td>11</td>\n",
       "    </tr>\n",
       "    <tr>\n",
       "      <th>7</th>\n",
       "      <td>Abraham Lincoln Gettysburg</td>\n",
       "      <td>https://boingboing.net/2019/07/04/abraham-linc...</td>\n",
       "      <td>-16.056097</td>\n",
       "      <td>4.0</td>\n",
       "      <td>12</td>\n",
       "    </tr>\n",
       "    <tr>\n",
       "      <th>9</th>\n",
       "      <td>Abraham Lincoln Gettysburg</td>\n",
       "      <td>https://www.nps.gov/gett/planyourvisit/dedicat...</td>\n",
       "      <td>-16.056097</td>\n",
       "      <td>0.0</td>\n",
       "      <td>13</td>\n",
       "    </tr>\n",
       "    <tr>\n",
       "      <th>2</th>\n",
       "      <td>Abraham Lincoln Gettysburg</td>\n",
       "      <td>https://rmc.library.cornell.edu/gettysburg/goo...</td>\n",
       "      <td>-17.442392</td>\n",
       "      <td>4.0</td>\n",
       "      <td>14</td>\n",
       "    </tr>\n",
       "    <tr>\n",
       "      <th>15</th>\n",
       "      <td>Abraham Lincoln Gettysburg</td>\n",
       "      <td>https://newsela.com/read/speeches-lincoln-gett...</td>\n",
       "      <td>-18.135539</td>\n",
       "      <td>0.0</td>\n",
       "      <td>15</td>\n",
       "    </tr>\n",
       "    <tr>\n",
       "      <th>4</th>\n",
       "      <td>Abraham Lincoln Gettysburg</td>\n",
       "      <td>https://www.independent.co.uk/news/world/ameri...</td>\n",
       "      <td>-19.521833</td>\n",
       "      <td>4.0</td>\n",
       "      <td>16</td>\n",
       "    </tr>\n",
       "    <tr>\n",
       "      <th>3</th>\n",
       "      <td>Abraham Lincoln Gettysburg</td>\n",
       "      <td>https://www.historynet.com/gettysburg-address-...</td>\n",
       "      <td>-19.521833</td>\n",
       "      <td>3.0</td>\n",
       "      <td>17</td>\n",
       "    </tr>\n",
       "  </tbody>\n",
       "</table>\n",
       "</div>"
      ],
      "text/plain": [
       "                         Query  \\\n",
       "0   Abraham Lincoln Gettysburg   \n",
       "12  Abraham Lincoln Gettysburg   \n",
       "8   Abraham Lincoln Gettysburg   \n",
       "11  Abraham Lincoln Gettysburg   \n",
       "1   Abraham Lincoln Gettysburg   \n",
       "16  Abraham Lincoln Gettysburg   \n",
       "14  Abraham Lincoln Gettysburg   \n",
       "6   Abraham Lincoln Gettysburg   \n",
       "13  Abraham Lincoln Gettysburg   \n",
       "17  Abraham Lincoln Gettysburg   \n",
       "5   Abraham Lincoln Gettysburg   \n",
       "10  Abraham Lincoln Gettysburg   \n",
       "7   Abraham Lincoln Gettysburg   \n",
       "9   Abraham Lincoln Gettysburg   \n",
       "2   Abraham Lincoln Gettysburg   \n",
       "15  Abraham Lincoln Gettysburg   \n",
       "4   Abraham Lincoln Gettysburg   \n",
       "3   Abraham Lincoln Gettysburg   \n",
       "\n",
       "                                                  URL      score  Ranking  \\\n",
       "0   http://www.abrahamlincolnonline.org/lincoln/sp...  -4.462883      1.0   \n",
       "12  https://quod.lib.umich.edu/j/jala/2629860.0016...  -8.004438      0.0   \n",
       "8   https://www.nationalaffairs.com/publications/d... -10.390536      4.0   \n",
       "11  https://www.theatlantic.com/magazine/archive/2... -11.171876      4.0   \n",
       "1   https://www.history.com/topics/american-civil-... -11.535668      4.0   \n",
       "16  https://www.wuwm.com/post/seven-facts-you-didn... -12.645569      0.0   \n",
       "14  https://dp.la/primary-source-sets/battle-of-ge... -13.818051      4.0   \n",
       "6     https://usa.usembassy.de/etexts/democrac/25.htm -14.041194      3.0   \n",
       "13  https://www.thedailybeast.com/how-abraham-linc... -14.079415      0.0   \n",
       "17  http://gettysburg.stonesentinels.com/other-mon... -14.146555      3.0   \n",
       "5   https://www.americanrhetoric.com/speeches/gett... -14.580191      4.0   \n",
       "10  https://www.wbaltv.com/article/this-day-in-his... -14.734341      0.0   \n",
       "7   https://boingboing.net/2019/07/04/abraham-linc... -16.056097      4.0   \n",
       "9   https://www.nps.gov/gett/planyourvisit/dedicat... -16.056097      0.0   \n",
       "2   https://rmc.library.cornell.edu/gettysburg/goo... -17.442392      4.0   \n",
       "15  https://newsela.com/read/speeches-lincoln-gett... -18.135539      0.0   \n",
       "4   https://www.independent.co.uk/news/world/ameri... -19.521833      4.0   \n",
       "3   https://www.historynet.com/gettysburg-address-... -19.521833      3.0   \n",
       "\n",
       "    Place  \n",
       "0       0  \n",
       "12      1  \n",
       "8       2  \n",
       "11      3  \n",
       "1       4  \n",
       "16      5  \n",
       "14      6  \n",
       "6       7  \n",
       "13      8  \n",
       "17      9  \n",
       "5      10  \n",
       "10     11  \n",
       "7      12  \n",
       "9      13  \n",
       "2      14  \n",
       "15     15  \n",
       "4      16  \n",
       "3      17  "
      ]
     },
     "execution_count": 92,
     "metadata": {},
     "output_type": "execute_result"
    }
   ],
   "source": [
    "temp"
   ]
  },
  {
   "cell_type": "markdown",
   "metadata": {},
   "source": [
    "# NDCG Evaluation"
   ]
  },
  {
   "cell_type": "code",
   "execution_count": 179,
   "metadata": {},
   "outputs": [],
   "source": [
    "def dcg(ranks, i):\n",
    "    value = ranks[0]\n",
    "    if i == 0:\n",
    "        return value\n",
    "    else:\n",
    "        for x in range(1,i+1):\n",
    "            value += (ranks[x])/(np.log2(x+1))\n",
    "        return value"
   ]
  },
  {
   "cell_type": "code",
   "execution_count": 180,
   "metadata": {},
   "outputs": [],
   "source": [
    "for query in queries:\n",
    "    temp = vector_df[vector_df['Query'] == query].sort_values(by=['score'], ascending=False)[['Query','URL','score', 'Ranking']]\n",
    "    \n",
    "    # ----------------------------------\n",
    "    y = [] \n",
    "    for x in range(len(temp)):\n",
    "        y.append(x)\n",
    "    temp['QL_rank'] = y\n",
    "    \n",
    "    # ----------------------------------\n",
    "    dcg_values = [0]*len(temp)\n",
    "    for i in range(len(temp)):\n",
    "        dcg_values[i] = dcg(list(temp.Ranking), i)\n",
    "    \n",
    "    # ----------------------------------\n",
    "    temp['DCG'] = dcg_values\n",
    "    if query == 'Celtics 11/20/2019':\n",
    "        temp.to_csv('Results/Celtic Query.csv')\n",
    "    else:\n",
    "        temp.to_csv('Results/' + str(query) + '.csv')\n"
   ]
  },
  {
   "cell_type": "code",
   "execution_count": 172,
   "metadata": {},
   "outputs": [],
   "source": [
    "values = [0]*len(temp)\n",
    "\n",
    "for i in range(len(temp)):\n",
    "    values[i] = dcg(list(temp.Ranking), i)"
   ]
  },
  {
   "cell_type": "code",
   "execution_count": 173,
   "metadata": {},
   "outputs": [],
   "source": [
    "temp['DCG'] = values"
   ]
  },
  {
   "cell_type": "code",
   "execution_count": 181,
   "metadata": {},
   "outputs": [
    {
     "data": {
      "text/html": [
       "<div>\n",
       "<style scoped>\n",
       "    .dataframe tbody tr th:only-of-type {\n",
       "        vertical-align: middle;\n",
       "    }\n",
       "\n",
       "    .dataframe tbody tr th {\n",
       "        vertical-align: top;\n",
       "    }\n",
       "\n",
       "    .dataframe thead th {\n",
       "        text-align: right;\n",
       "    }\n",
       "</style>\n",
       "<table border=\"1\" class=\"dataframe\">\n",
       "  <thead>\n",
       "    <tr style=\"text-align: right;\">\n",
       "      <th></th>\n",
       "      <th>Query</th>\n",
       "      <th>URL</th>\n",
       "      <th>score</th>\n",
       "      <th>Ranking</th>\n",
       "      <th>QL_rank</th>\n",
       "      <th>DCG</th>\n",
       "    </tr>\n",
       "  </thead>\n",
       "  <tbody>\n",
       "    <tr>\n",
       "      <th>278</th>\n",
       "      <td>World Media views on Imran Khan</td>\n",
       "      <td>https://www.vanityfair.com/news/2019/09/the-on...</td>\n",
       "      <td>-23.105781</td>\n",
       "      <td>4.0</td>\n",
       "      <td>0</td>\n",
       "      <td>4.000000</td>\n",
       "    </tr>\n",
       "    <tr>\n",
       "      <th>277</th>\n",
       "      <td>World Media views on Imran Khan</td>\n",
       "      <td>https://www.voanews.com/press-freedom/redlinin...</td>\n",
       "      <td>-26.438549</td>\n",
       "      <td>2.0</td>\n",
       "      <td>1</td>\n",
       "      <td>6.000000</td>\n",
       "    </tr>\n",
       "    <tr>\n",
       "      <th>258</th>\n",
       "      <td>World Media views on Imran Khan</td>\n",
       "      <td>https://www.theguardian.com/world/imran-khan</td>\n",
       "      <td>-27.098128</td>\n",
       "      <td>4.0</td>\n",
       "      <td>2</td>\n",
       "      <td>8.523719</td>\n",
       "    </tr>\n",
       "    <tr>\n",
       "      <th>269</th>\n",
       "      <td>World Media views on Imran Khan</td>\n",
       "      <td>https://www.news18.com/news/world/no-way-youre...</td>\n",
       "      <td>-27.142625</td>\n",
       "      <td>4.0</td>\n",
       "      <td>3</td>\n",
       "      <td>10.523719</td>\n",
       "    </tr>\n",
       "    <tr>\n",
       "      <th>266</th>\n",
       "      <td>World Media views on Imran Khan</td>\n",
       "      <td>https://www.economist.com/node/21561027/comments</td>\n",
       "      <td>-27.692672</td>\n",
       "      <td>0.0</td>\n",
       "      <td>4</td>\n",
       "      <td>10.523719</td>\n",
       "    </tr>\n",
       "    <tr>\n",
       "      <th>270</th>\n",
       "      <td>World Media views on Imran Khan</td>\n",
       "      <td>https://www.economist.com/node/21561027/comments</td>\n",
       "      <td>-27.692672</td>\n",
       "      <td>0.0</td>\n",
       "      <td>5</td>\n",
       "      <td>10.523719</td>\n",
       "    </tr>\n",
       "    <tr>\n",
       "      <th>264</th>\n",
       "      <td>World Media views on Imran Khan</td>\n",
       "      <td>https://www.aljazeera.com/indepth/features/bes...</td>\n",
       "      <td>-30.218400</td>\n",
       "      <td>4.0</td>\n",
       "      <td>6</td>\n",
       "      <td>11.948548</td>\n",
       "    </tr>\n",
       "    <tr>\n",
       "      <th>276</th>\n",
       "      <td>World Media views on Imran Khan</td>\n",
       "      <td>https://www.khaleejtimes.com/international/ind...</td>\n",
       "      <td>-30.471985</td>\n",
       "      <td>2.0</td>\n",
       "      <td>7</td>\n",
       "      <td>12.615214</td>\n",
       "    </tr>\n",
       "    <tr>\n",
       "      <th>272</th>\n",
       "      <td>World Media views on Imran Khan</td>\n",
       "      <td>https://www.indiatoday.in/world/story/imran-kh...</td>\n",
       "      <td>-30.842555</td>\n",
       "      <td>3.0</td>\n",
       "      <td>8</td>\n",
       "      <td>13.561609</td>\n",
       "    </tr>\n",
       "    <tr>\n",
       "      <th>274</th>\n",
       "      <td>World Media views on Imran Khan</td>\n",
       "      <td>https://economictimes.indiatimes.com/news/poli...</td>\n",
       "      <td>-31.122857</td>\n",
       "      <td>4.0</td>\n",
       "      <td>9</td>\n",
       "      <td>14.765729</td>\n",
       "    </tr>\n",
       "    <tr>\n",
       "      <th>259</th>\n",
       "      <td>World Media views on Imran Khan</td>\n",
       "      <td>https://www.nytimes.com/topic/person/imran-khan</td>\n",
       "      <td>-31.471163</td>\n",
       "      <td>3.0</td>\n",
       "      <td>10</td>\n",
       "      <td>15.632924</td>\n",
       "    </tr>\n",
       "    <tr>\n",
       "      <th>260</th>\n",
       "      <td>World Media views on Imran Khan</td>\n",
       "      <td>https://www.nytimes.com/2019/09/27/world/asia/...</td>\n",
       "      <td>-32.087121</td>\n",
       "      <td>1.0</td>\n",
       "      <td>11</td>\n",
       "      <td>15.911866</td>\n",
       "    </tr>\n",
       "    <tr>\n",
       "      <th>263</th>\n",
       "      <td>World Media views on Imran Khan</td>\n",
       "      <td>https://www.youtube.com/watch?v=6b8MyKV6ibI</td>\n",
       "      <td>-32.869880</td>\n",
       "      <td>2.0</td>\n",
       "      <td>12</td>\n",
       "      <td>16.452343</td>\n",
       "    </tr>\n",
       "    <tr>\n",
       "      <th>267</th>\n",
       "      <td>World Media views on Imran Khan</td>\n",
       "      <td>https://www.cnn.com/2019/09/27/world/modi-imra...</td>\n",
       "      <td>-34.138391</td>\n",
       "      <td>4.0</td>\n",
       "      <td>13</td>\n",
       "      <td>17.502941</td>\n",
       "    </tr>\n",
       "    <tr>\n",
       "      <th>275</th>\n",
       "      <td>World Media views on Imran Khan</td>\n",
       "      <td>https://www.scmp.com/news/china/diplomacy/arti...</td>\n",
       "      <td>-34.256175</td>\n",
       "      <td>4.0</td>\n",
       "      <td>14</td>\n",
       "      <td>18.526773</td>\n",
       "    </tr>\n",
       "    <tr>\n",
       "      <th>265</th>\n",
       "      <td>World Media views on Imran Khan</td>\n",
       "      <td>https://twitter.com/hashtag/imrankhan?lang=en</td>\n",
       "      <td>-35.865612</td>\n",
       "      <td>0.0</td>\n",
       "      <td>15</td>\n",
       "      <td>18.526773</td>\n",
       "    </tr>\n",
       "    <tr>\n",
       "      <th>262</th>\n",
       "      <td>World Media views on Imran Khan</td>\n",
       "      <td>https://www.bbc.com/news/world-asia-india-4980...</td>\n",
       "      <td>-37.945054</td>\n",
       "      <td>3.0</td>\n",
       "      <td>16</td>\n",
       "      <td>19.260725</td>\n",
       "    </tr>\n",
       "    <tr>\n",
       "      <th>261</th>\n",
       "      <td>World Media views on Imran Khan</td>\n",
       "      <td>https://tribune.com.pk/story/2067293/3-interna...</td>\n",
       "      <td>-38.350519</td>\n",
       "      <td>1.0</td>\n",
       "      <td>17</td>\n",
       "      <td>19.500537</td>\n",
       "    </tr>\n",
       "    <tr>\n",
       "      <th>271</th>\n",
       "      <td>World Media views on Imran Khan</td>\n",
       "      <td>https://www.independent.co.uk/topic/imran-khan</td>\n",
       "      <td>-39.043666</td>\n",
       "      <td>4.0</td>\n",
       "      <td>18</td>\n",
       "      <td>20.442173</td>\n",
       "    </tr>\n",
       "    <tr>\n",
       "      <th>273</th>\n",
       "      <td>World Media views on Imran Khan</td>\n",
       "      <td>https://www.washingtonpost.com/opinions/global...</td>\n",
       "      <td>-39.043666</td>\n",
       "      <td>4.0</td>\n",
       "      <td>19</td>\n",
       "      <td>21.367686</td>\n",
       "    </tr>\n",
       "    <tr>\n",
       "      <th>268</th>\n",
       "      <td>World Media views on Imran Khan</td>\n",
       "      <td>https://www.independent.co.uk/topic/imran-khan</td>\n",
       "      <td>-39.043666</td>\n",
       "      <td>4.0</td>\n",
       "      <td>20</td>\n",
       "      <td>22.278367</td>\n",
       "    </tr>\n",
       "    <tr>\n",
       "      <th>279</th>\n",
       "      <td>World Media views on Imran Khan</td>\n",
       "      <td>kashmir-as-khan-makes-diplomatic-push-idUSKBN1...</td>\n",
       "      <td>-39.043666</td>\n",
       "      <td>3.0</td>\n",
       "      <td>21</td>\n",
       "      <td>22.951098</td>\n",
       "    </tr>\n",
       "  </tbody>\n",
       "</table>\n",
       "</div>"
      ],
      "text/plain": [
       "                               Query  \\\n",
       "278  World Media views on Imran Khan   \n",
       "277  World Media views on Imran Khan   \n",
       "258  World Media views on Imran Khan   \n",
       "269  World Media views on Imran Khan   \n",
       "266  World Media views on Imran Khan   \n",
       "270  World Media views on Imran Khan   \n",
       "264  World Media views on Imran Khan   \n",
       "276  World Media views on Imran Khan   \n",
       "272  World Media views on Imran Khan   \n",
       "274  World Media views on Imran Khan   \n",
       "259  World Media views on Imran Khan   \n",
       "260  World Media views on Imran Khan   \n",
       "263  World Media views on Imran Khan   \n",
       "267  World Media views on Imran Khan   \n",
       "275  World Media views on Imran Khan   \n",
       "265  World Media views on Imran Khan   \n",
       "262  World Media views on Imran Khan   \n",
       "261  World Media views on Imran Khan   \n",
       "271  World Media views on Imran Khan   \n",
       "273  World Media views on Imran Khan   \n",
       "268  World Media views on Imran Khan   \n",
       "279  World Media views on Imran Khan   \n",
       "\n",
       "                                                   URL      score  Ranking  \\\n",
       "278  https://www.vanityfair.com/news/2019/09/the-on... -23.105781      4.0   \n",
       "277  https://www.voanews.com/press-freedom/redlinin... -26.438549      2.0   \n",
       "258       https://www.theguardian.com/world/imran-khan -27.098128      4.0   \n",
       "269  https://www.news18.com/news/world/no-way-youre... -27.142625      4.0   \n",
       "266  https://www.economist.com/node/21561027/comments  -27.692672      0.0   \n",
       "270   https://www.economist.com/node/21561027/comments -27.692672      0.0   \n",
       "264  https://www.aljazeera.com/indepth/features/bes... -30.218400      4.0   \n",
       "276  https://www.khaleejtimes.com/international/ind... -30.471985      2.0   \n",
       "272  https://www.indiatoday.in/world/story/imran-kh... -30.842555      3.0   \n",
       "274  https://economictimes.indiatimes.com/news/poli... -31.122857      4.0   \n",
       "259    https://www.nytimes.com/topic/person/imran-khan -31.471163      3.0   \n",
       "260  https://www.nytimes.com/2019/09/27/world/asia/... -32.087121      1.0   \n",
       "263       https://www.youtube.com/watch?v=6b8MyKV6ibI  -32.869880      2.0   \n",
       "267  https://www.cnn.com/2019/09/27/world/modi-imra... -34.138391      4.0   \n",
       "275  https://www.scmp.com/news/china/diplomacy/arti... -34.256175      4.0   \n",
       "265      https://twitter.com/hashtag/imrankhan?lang=en -35.865612      0.0   \n",
       "262  https://www.bbc.com/news/world-asia-india-4980... -37.945054      3.0   \n",
       "261  https://tribune.com.pk/story/2067293/3-interna... -38.350519      1.0   \n",
       "271     https://www.independent.co.uk/topic/imran-khan -39.043666      4.0   \n",
       "273  https://www.washingtonpost.com/opinions/global... -39.043666      4.0   \n",
       "268    https://www.independent.co.uk/topic/imran-khan  -39.043666      4.0   \n",
       "279  kashmir-as-khan-makes-diplomatic-push-idUSKBN1... -39.043666      3.0   \n",
       "\n",
       "     QL_rank        DCG  \n",
       "278        0   4.000000  \n",
       "277        1   6.000000  \n",
       "258        2   8.523719  \n",
       "269        3  10.523719  \n",
       "266        4  10.523719  \n",
       "270        5  10.523719  \n",
       "264        6  11.948548  \n",
       "276        7  12.615214  \n",
       "272        8  13.561609  \n",
       "274        9  14.765729  \n",
       "259       10  15.632924  \n",
       "260       11  15.911866  \n",
       "263       12  16.452343  \n",
       "267       13  17.502941  \n",
       "275       14  18.526773  \n",
       "265       15  18.526773  \n",
       "262       16  19.260725  \n",
       "261       17  19.500537  \n",
       "271       18  20.442173  \n",
       "273       19  21.367686  \n",
       "268       20  22.278367  \n",
       "279       21  22.951098  "
      ]
     },
     "execution_count": 181,
     "metadata": {},
     "output_type": "execute_result"
    }
   ],
   "source": [
    "temp"
   ]
  },
  {
   "cell_type": "code",
   "execution_count": 178,
   "metadata": {},
   "outputs": [
    {
     "data": {
      "text/plain": [
       "3.52371901428583"
      ]
     },
     "execution_count": 178,
     "metadata": {},
     "output_type": "execute_result"
    }
   ],
   "source": [
    "1 + (4/np.log2(3))"
   ]
  },
  {
   "cell_type": "code",
   "execution_count": null,
   "metadata": {},
   "outputs": [],
   "source": []
  }
 ],
 "metadata": {
  "kernelspec": {
   "display_name": "Python 3",
   "language": "python",
   "name": "python3"
  },
  "language_info": {
   "codemirror_mode": {
    "name": "ipython",
    "version": 3
   },
   "file_extension": ".py",
   "mimetype": "text/x-python",
   "name": "python",
   "nbconvert_exporter": "python",
   "pygments_lexer": "ipython3",
   "version": "3.7.0"
  },
  "pycharm": {
   "stem_cell": {
    "cell_type": "raw",
    "metadata": {
     "collapsed": false
    },
    "source": []
   }
  }
 },
 "nbformat": 4,
 "nbformat_minor": 1
}
